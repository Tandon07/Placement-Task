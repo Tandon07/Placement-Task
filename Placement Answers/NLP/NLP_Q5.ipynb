{
  "nbformat": 4,
  "nbformat_minor": 0,
  "metadata": {
    "colab": {
      "provenance": []
    },
    "kernelspec": {
      "name": "python3",
      "display_name": "Python 3"
    },
    "language_info": {
      "name": "python"
    }
  },
  "cells": [
    {
      "cell_type": "code",
      "execution_count": 1,
      "metadata": {
        "colab": {
          "base_uri": "https://localhost:8080/"
        },
        "id": "5xK450DVHpIr",
        "outputId": "d2371ac4-61c3-4b03-a43b-810aa450bd70"
      },
      "outputs": [
        {
          "output_type": "stream",
          "name": "stdout",
          "text": [
            "Looking in indexes: https://pypi.org/simple, https://us-python.pkg.dev/colab-wheels/public/simple/\n",
            "Collecting fasttext\n",
            "  Downloading fasttext-0.9.2.tar.gz (68 kB)\n",
            "\u001b[2K     \u001b[90m━━━━━━━━━━━━━━━━━━━━━━━━━━━━━━━━━━━━━━━━\u001b[0m \u001b[32m68.8/68.8 kB\u001b[0m \u001b[31m4.0 MB/s\u001b[0m eta \u001b[36m0:00:00\u001b[0m\n",
            "\u001b[?25h  Preparing metadata (setup.py) ... \u001b[?25l\u001b[?25hdone\n",
            "Collecting pybind11>=2.2 (from fasttext)\n",
            "  Using cached pybind11-2.10.4-py3-none-any.whl (222 kB)\n",
            "Requirement already satisfied: setuptools>=0.7.0 in /usr/local/lib/python3.10/dist-packages (from fasttext) (67.7.2)\n",
            "Requirement already satisfied: numpy in /usr/local/lib/python3.10/dist-packages (from fasttext) (1.22.4)\n",
            "Building wheels for collected packages: fasttext\n",
            "  Building wheel for fasttext (setup.py) ... \u001b[?25l\u001b[?25hdone\n",
            "  Created wheel for fasttext: filename=fasttext-0.9.2-cp310-cp310-linux_x86_64.whl size=4393358 sha256=cd5e2b28edd5cc1614d92394edd3c7f1c43e900335e4d52c7e33394d9af2f0ba\n",
            "  Stored in directory: /root/.cache/pip/wheels/a5/13/75/f811c84a8ab36eedbaef977a6a58a98990e8e0f1967f98f394\n",
            "Successfully built fasttext\n",
            "Installing collected packages: pybind11, fasttext\n",
            "Successfully installed fasttext-0.9.2 pybind11-2.10.4\n"
          ]
        }
      ],
      "source": [
        "pip install fasttext\n"
      ]
    },
    {
      "cell_type": "code",
      "source": [
        "import fasttext\n",
        "\n",
        "# Load the training data\n",
        "train_data = \"/content/train.txt\"\n",
        "\n",
        "# Define model parameters\n",
        "model_params = {\n",
        "    \"lr\": 0.1,\n",
        "    \"epoch\": 25,\n",
        "    \"wordNgrams\": 2,\n",
        "    \"bucket\": 200000,\n",
        "    \"dim\": 50,\n",
        "}\n",
        "\n",
        "# Train the language detection model\n",
        "model = fasttext.train_supervised(input=train_data, **model_params)\n",
        "\n",
        "# Save the trained model\n",
        "model.save_model(\"language_detection_model.bin\")\n"
      ],
      "metadata": {
        "id": "2mp-we8WIKNV"
      },
      "execution_count": 3,
      "outputs": []
    },
    {
      "cell_type": "code",
      "source": [
        "# Load the evaluation data\n",
        "eval_data = \"/content/eval.txt\"\n",
        "\n",
        "# Evaluate the model\n",
        "result = model.test(eval_data)\n",
        "\n",
        "# Print evaluation metrics\n",
        "print(\"Precision:\", result[1])\n",
        "print(\"Recall:\", result[2])\n",
        "\n"
      ],
      "metadata": {
        "colab": {
          "base_uri": "https://localhost:8080/"
        },
        "id": "YG5pkdW9Ilnb",
        "outputId": "bbb3f458-6062-47e8-8af6-4453368928e4"
      },
      "execution_count": 5,
      "outputs": [
        {
          "output_type": "stream",
          "name": "stdout",
          "text": [
            "Precision: 1.0\n",
            "Recall: 1.0\n"
          ]
        }
      ]
    },
    {
      "cell_type": "code",
      "source": [
        "result"
      ],
      "metadata": {
        "colab": {
          "base_uri": "https://localhost:8080/"
        },
        "id": "tuJhi3JOKtsk",
        "outputId": "80b57e16-9c67-4c0e-8e7c-a358a4cc0c5a"
      },
      "execution_count": 6,
      "outputs": [
        {
          "output_type": "execute_result",
          "data": {
            "text/plain": [
              "(3, 1.0, 1.0)"
            ]
          },
          "metadata": {},
          "execution_count": 6
        }
      ]
    },
    {
      "cell_type": "code",
      "source": [],
      "metadata": {
        "id": "XY08Ss_QK1Y1"
      },
      "execution_count": null,
      "outputs": []
    }
  ]
}