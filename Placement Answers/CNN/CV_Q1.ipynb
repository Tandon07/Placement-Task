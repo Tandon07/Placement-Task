{
  "nbformat": 4,
  "nbformat_minor": 0,
  "metadata": {
    "colab": {
      "provenance": [],
      "gpuType": "T4"
    },
    "kernelspec": {
      "name": "python3",
      "display_name": "Python 3"
    },
    "language_info": {
      "name": "python"
    },
    "accelerator": "GPU"
  },
  "cells": [
    {
      "cell_type": "code",
      "execution_count": null,
      "metadata": {
        "id": "dG5N5_qkLFVu"
      },
      "outputs": [],
      "source": []
    },
    {
      "cell_type": "code",
      "execution_count": 7,
      "metadata": {
        "id": "gDrKCmvtCxc-"
      },
      "outputs": [],
      "source": [
        "import torch\n",
        "import torch.nn as nn\n",
        "import torch.optim as optim\n",
        "from torch.utils.data import DataLoader\n",
        "from torchvision.datasets import ImageFolder\n",
        "import torchvision.transforms as transforms\n",
        "import albumentations as A\n",
        "from albumentations.pytorch import ToTensorV2\n",
        "from torch.utils.tensorboard import SummaryWriter\n",
        "from google.colab import drive\n",
        "\n"
      ]
    },
    {
      "cell_type": "code",
      "source": [
        "drive.mount('/content/drive')"
      ],
      "metadata": {
        "colab": {
          "base_uri": "https://localhost:8080/"
        },
        "id": "k67Dl0nwJ9Iv",
        "outputId": "4a41884a-967b-48a5-aeae-75a0b0b5b0a3"
      },
      "execution_count": 4,
      "outputs": [
        {
          "output_type": "stream",
          "name": "stdout",
          "text": [
            "Mounted at /content/drive\n"
          ]
        }
      ]
    },
    {
      "cell_type": "code",
      "source": [
        "# Define the dataset path\n",
        "dataset_path = \"/content/drive/MyDrive/Vegetable/Images/Vegetable\"\n",
        "\n"
      ],
      "metadata": {
        "id": "Px44Z7ATC7Tv"
      },
      "execution_count": 5,
      "outputs": []
    },
    {
      "cell_type": "code",
      "source": [
        "dataset_path"
      ],
      "metadata": {
        "colab": {
          "base_uri": "https://localhost:8080/",
          "height": 35
        },
        "id": "mUKsB7HdV4Hs",
        "outputId": "f9de12cd-50f9-4837-a230-e5612373bdcf"
      },
      "execution_count": null,
      "outputs": [
        {
          "output_type": "execute_result",
          "data": {
            "text/plain": [
              "'/content/drive/MyDrive/Vegetable/Images/Vegetable'"
            ],
            "application/vnd.google.colaboratory.intrinsic+json": {
              "type": "string"
            }
          },
          "metadata": {},
          "execution_count": 36
        }
      ]
    },
    {
      "cell_type": "code",
      "source": [],
      "metadata": {
        "id": "Vnu_XXAUXzay"
      },
      "execution_count": null,
      "outputs": []
    },
    {
      "cell_type": "code",
      "source": [],
      "metadata": {
        "id": "Oo67BVYIC9tj"
      },
      "execution_count": null,
      "outputs": []
    },
    {
      "cell_type": "code",
      "source": [
        "##########################################"
      ],
      "metadata": {
        "id": "ObMZJaNl21CN"
      },
      "execution_count": 1,
      "outputs": []
    },
    {
      "cell_type": "code",
      "source": [
        "import torch\n",
        "import torch.nn as nn\n",
        "import torch.optim as optim\n",
        "import torchvision.transforms as transforms\n",
        "from torch.utils.data import DataLoader\n",
        "from torch.utils.tensorboard import SummaryWriter\n",
        "from torchvision.datasets import ImageFolder\n",
        "import torchvision.models as models\n",
        "import albumentations as A\n",
        "\n",
        "# Set up distributed training environment if needed\n",
        "\n",
        "# Define transformations using albumentations library\n",
        "from torchvision.transforms import ToTensor, Resize\n",
        "train_transform = transforms.Compose([\n",
        "    Resize((224, 224)),  \n",
        "    ToTensor(),  \n",
        "    \n",
        "])\n",
        "\n",
        "val_transform = transforms.Compose([\n",
        "    Resize((224, 224)),  \n",
        "    ToTensor(),  \n",
        "   \n",
        "])\n",
        "\n",
        "test_transform = transforms.Compose([\n",
        "    Resize((224, 224)),  \n",
        "    ToTensor(),  \n",
        "   \n",
        "])\n"
      ],
      "metadata": {
        "id": "F21w6-sYHfMX"
      },
      "execution_count": 13,
      "outputs": []
    },
    {
      "cell_type": "code",
      "source": [
        "# Define dataset paths\n",
        "train_dataset = ImageFolder(dataset_path + '/train', transform=train_transform)\n",
        "test_dataset = ImageFolder(dataset_path + '/test', transform=test_transform)\n",
        "val_dataset = ImageFolder(dataset_path + '/validation', transform=val_transform)\n",
        "\n",
        "# Define data loaders\n",
        "train_loader = DataLoader(train_dataset, batch_size=64, shuffle=True)\n",
        "test_loader = DataLoader(test_dataset, batch_size=64, shuffle=False)\n",
        "val_loader = DataLoader(val_dataset, batch_size=64, shuffle=False)\n",
        "\n",
        "# Define the model\n",
        "device = torch.device('cuda' if torch.cuda.is_available() else 'cpu')\n",
        "model = models.resnet50(pretrained=True)\n",
        "num_classes = len(train_dataset.classes)\n",
        "model.fc = nn.Linear(model.fc.in_features, num_classes)\n",
        "model = model.to(device)\n",
        "\n",
        "# Define the loss function and optimizer\n",
        "criterion = nn.CrossEntropyLoss()\n",
        "optimizer = optim.Adam(model.parameters(), lr=0.001)\n",
        "\n",
        "# Set up TensorBoard writer for logging\n",
        "writer = SummaryWriter('logs')\n",
        "\n"
      ],
      "metadata": {
        "id": "PL664OuuIi1O"
      },
      "execution_count": 14,
      "outputs": []
    },
    {
      "cell_type": "code",
      "source": [
        "# Training loop\n",
        "num_epochs = 100\n",
        "\n",
        "for epoch in range(num_epochs):\n",
        "    model.train()\n",
        "    train_loss = 0.0\n",
        "    train_correct = 0\n",
        "    train_total = 0\n",
        "\n",
        "    for batch_idx, (images, labels) in enumerate(train_loader):\n",
        "        images, labels = images.to(device), labels.to(device)\n",
        "        \n",
        "        optimizer.zero_grad()\n",
        "        outputs = model(images)\n",
        "        loss = criterion(outputs, labels)\n",
        "        loss.backward()\n",
        "        optimizer.step()\n",
        "\n",
        "        train_loss += loss.item()\n",
        "        _, predicted = torch.max(outputs.data, 1)\n",
        "        train_total += labels.size(0)\n",
        "        train_correct += (predicted == labels).sum().item()\n",
        "\n",
        "    train_accuracy = 100.0 * train_correct / train_total\n",
        "    train_loss /= len(train_loader)\n",
        "\n",
        "    # Validation loop\n",
        "    model.eval()\n",
        "    val_loss = 0.0\n",
        "    val_correct = 0\n",
        "    val_total = 0\n",
        "\n",
        "    with torch.no_grad():\n",
        "        for images, labels in val_loader:\n",
        "            images, labels = images.to(device), labels.to(device)\n",
        "            outputs = model(images)\n",
        "            loss = criterion(outputs, labels)\n",
        "            val_loss += loss.item()\n",
        "\n",
        "            _, predicted = torch.max(outputs.data, 1)\n",
        "            val_total += labels.size(0)\n",
        "            val_correct += (predicted == labels).sum().item()\n",
        "\n",
        "    val_accuracy = 100.0 * val_correct / val_total\n",
        "    val_loss /= len(val_loader)\n",
        "\n",
        "    # Log metrics to TensorBoard\n",
        "    writer.add_scalar('Loss/Train', train_loss, epoch)\n",
        "    writer.add_scalar('Loss/Val', val_loss, epoch)\n",
        "    writer.add_scalar('Accuracy/Train', train_accuracy, epoch)\n",
        "    writer.add_scalar('Accuracy/Val', val_accuracy, epoch)\n",
        "\n",
        "    print(f\"Epoch {epoch+1}/{num_epochs} | Train Loss: {train_loss:.4f} | Val Loss: {val_loss:.4f} | Train Acc: {train_accuracy:.2f}% | Val Acc: {val_accuracy:.2f}%\")\n",
        "\n",
        "# Save the trained model\n",
        "torch.save(model.state_dict(), 'vegetable_classifier.pth')\n",
        "\n",
        "# Close the TensorBoard writer\n",
        "writer.close()"
      ],
      "metadata": {
        "colab": {
          "base_uri": "https://localhost:8080/"
        },
        "id": "QN0eqN0vI5qV",
        "outputId": "dc157217-be1f-4b4c-d117-e7c6ec02511c"
      },
      "execution_count": 16,
      "outputs": [
        {
          "output_type": "stream",
          "name": "stdout",
          "text": [
            "Epoch 1/100 | Train Loss: 0.7838 | Val Loss: 3.4162 | Train Acc: 86.44% | Val Acc: 51.11%\n",
            "Epoch 2/100 | Train Loss: 0.6919 | Val Loss: 2.7435 | Train Acc: 84.89% | Val Acc: 52.44%\n",
            "Epoch 3/100 | Train Loss: 0.7257 | Val Loss: 4.0579 | Train Acc: 88.89% | Val Acc: 51.56%\n",
            "Epoch 4/100 | Train Loss: 1.0443 | Val Loss: 6.6931 | Train Acc: 89.78% | Val Acc: 42.67%\n",
            "Epoch 5/100 | Train Loss: 0.7591 | Val Loss: 2.0336 | Train Acc: 90.00% | Val Acc: 65.33%\n",
            "Epoch 6/100 | Train Loss: 0.9671 | Val Loss: 3.0871 | Train Acc: 83.33% | Val Acc: 52.89%\n",
            "Epoch 7/100 | Train Loss: 0.8610 | Val Loss: 1.7872 | Train Acc: 86.89% | Val Acc: 67.11%\n",
            "Epoch 8/100 | Train Loss: 0.4902 | Val Loss: 2.6103 | Train Acc: 87.56% | Val Acc: 64.89%\n",
            "Epoch 9/100 | Train Loss: 0.6497 | Val Loss: 1.8274 | Train Acc: 88.22% | Val Acc: 68.00%\n",
            "Epoch 10/100 | Train Loss: 0.8631 | Val Loss: 5.1362 | Train Acc: 89.11% | Val Acc: 50.67%\n",
            "Epoch 11/100 | Train Loss: 0.8757 | Val Loss: 0.9542 | Train Acc: 92.44% | Val Acc: 78.67%\n",
            "Epoch 12/100 | Train Loss: 0.6847 | Val Loss: 1.8437 | Train Acc: 92.67% | Val Acc: 59.56%\n",
            "Epoch 13/100 | Train Loss: 1.1618 | Val Loss: 6.8562 | Train Acc: 83.78% | Val Acc: 52.89%\n",
            "Epoch 14/100 | Train Loss: 0.6922 | Val Loss: 2.5504 | Train Acc: 88.44% | Val Acc: 68.44%\n",
            "Epoch 15/100 | Train Loss: 0.4978 | Val Loss: 1.2109 | Train Acc: 87.56% | Val Acc: 72.89%\n",
            "Epoch 16/100 | Train Loss: 0.9350 | Val Loss: 0.7455 | Train Acc: 87.33% | Val Acc: 80.00%\n",
            "Epoch 17/100 | Train Loss: 0.6247 | Val Loss: 2.1841 | Train Acc: 93.33% | Val Acc: 62.22%\n",
            "Epoch 18/100 | Train Loss: 0.5150 | Val Loss: 3.6572 | Train Acc: 89.56% | Val Acc: 53.33%\n",
            "Epoch 19/100 | Train Loss: 0.8711 | Val Loss: 1.3529 | Train Acc: 90.89% | Val Acc: 73.33%\n",
            "Epoch 20/100 | Train Loss: 0.4818 | Val Loss: 1.5859 | Train Acc: 93.11% | Val Acc: 68.00%\n",
            "Epoch 21/100 | Train Loss: 0.7745 | Val Loss: 2.4942 | Train Acc: 87.11% | Val Acc: 66.67%\n",
            "Epoch 22/100 | Train Loss: 0.3975 | Val Loss: 1.7598 | Train Acc: 90.22% | Val Acc: 64.89%\n",
            "Epoch 23/100 | Train Loss: 0.5575 | Val Loss: 0.7955 | Train Acc: 92.22% | Val Acc: 81.78%\n",
            "Epoch 24/100 | Train Loss: 1.0130 | Val Loss: 1.5233 | Train Acc: 94.00% | Val Acc: 68.89%\n",
            "Epoch 25/100 | Train Loss: 0.6291 | Val Loss: 2.6612 | Train Acc: 90.44% | Val Acc: 55.56%\n",
            "Epoch 26/100 | Train Loss: 0.8710 | Val Loss: 2.6529 | Train Acc: 88.44% | Val Acc: 52.44%\n",
            "Epoch 27/100 | Train Loss: 1.1895 | Val Loss: 1.4669 | Train Acc: 91.11% | Val Acc: 71.11%\n",
            "Epoch 28/100 | Train Loss: 0.8287 | Val Loss: 12.4486 | Train Acc: 81.11% | Val Acc: 28.44%\n",
            "Epoch 29/100 | Train Loss: 0.7995 | Val Loss: 1.4948 | Train Acc: 81.11% | Val Acc: 65.33%\n",
            "Epoch 30/100 | Train Loss: 0.5906 | Val Loss: 0.9718 | Train Acc: 90.00% | Val Acc: 80.89%\n",
            "Epoch 31/100 | Train Loss: 0.7987 | Val Loss: 1.3086 | Train Acc: 93.33% | Val Acc: 70.22%\n",
            "Epoch 32/100 | Train Loss: 0.7671 | Val Loss: 1.3139 | Train Acc: 91.56% | Val Acc: 76.00%\n",
            "Epoch 33/100 | Train Loss: 0.8045 | Val Loss: 3.2417 | Train Acc: 91.11% | Val Acc: 52.00%\n",
            "Epoch 34/100 | Train Loss: 0.4845 | Val Loss: 3.8280 | Train Acc: 91.78% | Val Acc: 53.33%\n",
            "Epoch 35/100 | Train Loss: 0.2410 | Val Loss: 1.7161 | Train Acc: 94.00% | Val Acc: 70.22%\n",
            "Epoch 36/100 | Train Loss: 0.6531 | Val Loss: 1.1074 | Train Acc: 94.67% | Val Acc: 76.89%\n",
            "Epoch 37/100 | Train Loss: 0.1608 | Val Loss: 1.1936 | Train Acc: 98.22% | Val Acc: 72.00%\n",
            "Epoch 38/100 | Train Loss: 0.3841 | Val Loss: 0.9106 | Train Acc: 96.00% | Val Acc: 75.11%\n",
            "Epoch 39/100 | Train Loss: 0.7752 | Val Loss: 1.0732 | Train Acc: 94.67% | Val Acc: 78.67%\n",
            "Epoch 40/100 | Train Loss: 0.5886 | Val Loss: 3.3249 | Train Acc: 91.56% | Val Acc: 52.44%\n",
            "Epoch 41/100 | Train Loss: 0.4744 | Val Loss: 2.5221 | Train Acc: 89.78% | Val Acc: 54.22%\n",
            "Epoch 42/100 | Train Loss: 1.1087 | Val Loss: 1.9796 | Train Acc: 92.89% | Val Acc: 68.89%\n",
            "Epoch 43/100 | Train Loss: 0.3696 | Val Loss: 1.0527 | Train Acc: 95.11% | Val Acc: 79.56%\n",
            "Epoch 44/100 | Train Loss: 0.2759 | Val Loss: 1.0810 | Train Acc: 92.22% | Val Acc: 75.56%\n",
            "Epoch 45/100 | Train Loss: 0.7140 | Val Loss: 0.6291 | Train Acc: 95.56% | Val Acc: 85.78%\n",
            "Epoch 46/100 | Train Loss: 0.2758 | Val Loss: 1.3747 | Train Acc: 96.89% | Val Acc: 71.56%\n",
            "Epoch 47/100 | Train Loss: 0.6448 | Val Loss: 1.7592 | Train Acc: 94.22% | Val Acc: 72.44%\n",
            "Epoch 48/100 | Train Loss: 0.4685 | Val Loss: 2.5326 | Train Acc: 96.44% | Val Acc: 65.78%\n",
            "Epoch 49/100 | Train Loss: 0.3875 | Val Loss: 1.5559 | Train Acc: 94.22% | Val Acc: 70.22%\n",
            "Epoch 50/100 | Train Loss: 0.7947 | Val Loss: 0.8357 | Train Acc: 92.44% | Val Acc: 81.33%\n",
            "Epoch 51/100 | Train Loss: 0.6010 | Val Loss: 2.6960 | Train Acc: 95.33% | Val Acc: 67.56%\n",
            "Epoch 52/100 | Train Loss: 0.5460 | Val Loss: 1.5330 | Train Acc: 91.11% | Val Acc: 70.22%\n",
            "Epoch 53/100 | Train Loss: 0.5071 | Val Loss: 2.4131 | Train Acc: 93.11% | Val Acc: 69.33%\n",
            "Epoch 54/100 | Train Loss: 0.5868 | Val Loss: 1.0298 | Train Acc: 88.89% | Val Acc: 79.56%\n",
            "Epoch 55/100 | Train Loss: 0.5095 | Val Loss: 0.6694 | Train Acc: 93.33% | Val Acc: 84.00%\n",
            "Epoch 56/100 | Train Loss: 0.3486 | Val Loss: 1.3706 | Train Acc: 93.56% | Val Acc: 76.89%\n",
            "Epoch 57/100 | Train Loss: 0.2835 | Val Loss: 0.9848 | Train Acc: 92.00% | Val Acc: 74.22%\n",
            "Epoch 58/100 | Train Loss: 0.8720 | Val Loss: 2.0294 | Train Acc: 93.56% | Val Acc: 61.78%\n",
            "Epoch 59/100 | Train Loss: 0.7510 | Val Loss: 5.0873 | Train Acc: 90.89% | Val Acc: 54.22%\n",
            "Epoch 60/100 | Train Loss: 0.7435 | Val Loss: 2.4977 | Train Acc: 90.00% | Val Acc: 62.67%\n",
            "Epoch 61/100 | Train Loss: 0.7359 | Val Loss: 2.2260 | Train Acc: 86.44% | Val Acc: 57.33%\n",
            "Epoch 62/100 | Train Loss: 0.4471 | Val Loss: 1.6377 | Train Acc: 90.22% | Val Acc: 67.56%\n",
            "Epoch 63/100 | Train Loss: 1.2706 | Val Loss: 1.2383 | Train Acc: 89.33% | Val Acc: 71.56%\n",
            "Epoch 64/100 | Train Loss: 0.8049 | Val Loss: 1.4086 | Train Acc: 91.78% | Val Acc: 69.78%\n",
            "Epoch 65/100 | Train Loss: 1.0062 | Val Loss: 1.2091 | Train Acc: 94.89% | Val Acc: 67.56%\n",
            "Epoch 66/100 | Train Loss: 0.5912 | Val Loss: 1.2359 | Train Acc: 91.33% | Val Acc: 71.56%\n",
            "Epoch 67/100 | Train Loss: 0.3646 | Val Loss: 1.4152 | Train Acc: 93.78% | Val Acc: 75.11%\n",
            "Epoch 68/100 | Train Loss: 0.7694 | Val Loss: 2.2571 | Train Acc: 93.11% | Val Acc: 63.11%\n",
            "Epoch 69/100 | Train Loss: 0.5731 | Val Loss: 5.5723 | Train Acc: 93.78% | Val Acc: 39.56%\n",
            "Epoch 70/100 | Train Loss: 0.7395 | Val Loss: 1.7878 | Train Acc: 90.00% | Val Acc: 63.11%\n",
            "Epoch 71/100 | Train Loss: 0.6459 | Val Loss: 2.3979 | Train Acc: 88.44% | Val Acc: 61.33%\n",
            "Epoch 72/100 | Train Loss: 0.8945 | Val Loss: 2.7848 | Train Acc: 92.00% | Val Acc: 60.00%\n",
            "Epoch 73/100 | Train Loss: 0.5046 | Val Loss: 1.1078 | Train Acc: 94.44% | Val Acc: 79.11%\n",
            "Epoch 74/100 | Train Loss: 0.6686 | Val Loss: 1.2135 | Train Acc: 94.22% | Val Acc: 77.78%\n",
            "Epoch 75/100 | Train Loss: 0.4046 | Val Loss: 1.9379 | Train Acc: 92.44% | Val Acc: 70.22%\n",
            "Epoch 76/100 | Train Loss: 0.3510 | Val Loss: 0.8588 | Train Acc: 96.00% | Val Acc: 80.44%\n",
            "Epoch 77/100 | Train Loss: 0.6200 | Val Loss: 0.9935 | Train Acc: 96.67% | Val Acc: 76.00%\n",
            "Epoch 78/100 | Train Loss: 0.5022 | Val Loss: 1.2400 | Train Acc: 94.67% | Val Acc: 71.11%\n",
            "Epoch 79/100 | Train Loss: 0.4760 | Val Loss: 1.5799 | Train Acc: 94.22% | Val Acc: 65.78%\n",
            "Epoch 80/100 | Train Loss: 0.2775 | Val Loss: 1.5278 | Train Acc: 96.67% | Val Acc: 68.44%\n",
            "Epoch 81/100 | Train Loss: 0.4174 | Val Loss: 1.4484 | Train Acc: 94.22% | Val Acc: 71.11%\n",
            "Epoch 82/100 | Train Loss: 0.2376 | Val Loss: 1.3600 | Train Acc: 96.22% | Val Acc: 74.22%\n",
            "Epoch 83/100 | Train Loss: 0.4343 | Val Loss: 1.1028 | Train Acc: 94.44% | Val Acc: 75.56%\n",
            "Epoch 84/100 | Train Loss: 0.2502 | Val Loss: 2.1305 | Train Acc: 97.56% | Val Acc: 60.89%\n",
            "Epoch 85/100 | Train Loss: 0.5829 | Val Loss: 1.2808 | Train Acc: 95.33% | Val Acc: 72.44%\n",
            "Epoch 86/100 | Train Loss: 0.4615 | Val Loss: 0.7997 | Train Acc: 96.22% | Val Acc: 81.33%\n",
            "Epoch 87/100 | Train Loss: 0.6202 | Val Loss: 0.9897 | Train Acc: 96.00% | Val Acc: 79.11%\n",
            "Epoch 88/100 | Train Loss: 0.3573 | Val Loss: 2.3611 | Train Acc: 96.89% | Val Acc: 59.56%\n",
            "Epoch 89/100 | Train Loss: 0.4875 | Val Loss: 1.6048 | Train Acc: 94.00% | Val Acc: 68.89%\n",
            "Epoch 90/100 | Train Loss: 0.2912 | Val Loss: 1.0693 | Train Acc: 94.22% | Val Acc: 75.56%\n",
            "Epoch 91/100 | Train Loss: 0.3027 | Val Loss: 0.8781 | Train Acc: 96.22% | Val Acc: 77.33%\n",
            "Epoch 92/100 | Train Loss: 0.3353 | Val Loss: 1.3473 | Train Acc: 97.11% | Val Acc: 79.11%\n",
            "Epoch 93/100 | Train Loss: 0.6888 | Val Loss: 1.0432 | Train Acc: 96.67% | Val Acc: 76.89%\n",
            "Epoch 94/100 | Train Loss: 0.3862 | Val Loss: 1.3049 | Train Acc: 95.78% | Val Acc: 74.67%\n",
            "Epoch 95/100 | Train Loss: 0.6928 | Val Loss: 1.1715 | Train Acc: 94.67% | Val Acc: 79.56%\n",
            "Epoch 96/100 | Train Loss: 0.5671 | Val Loss: 1.2062 | Train Acc: 95.33% | Val Acc: 75.56%\n",
            "Epoch 97/100 | Train Loss: 0.4372 | Val Loss: 1.2095 | Train Acc: 92.00% | Val Acc: 75.11%\n",
            "Epoch 98/100 | Train Loss: 0.8201 | Val Loss: 1.2181 | Train Acc: 96.22% | Val Acc: 74.67%\n",
            "Epoch 99/100 | Train Loss: 0.4958 | Val Loss: 1.1444 | Train Acc: 96.00% | Val Acc: 74.22%\n",
            "Epoch 100/100 | Train Loss: 0.6136 | Val Loss: 1.0734 | Train Acc: 97.11% | Val Acc: 75.11%\n"
          ]
        }
      ]
    },
    {
      "cell_type": "code",
      "source": [
        "# Validating"
      ],
      "metadata": {
        "id": "2StqFmU9KANF"
      },
      "execution_count": 17,
      "outputs": []
    },
    {
      "cell_type": "code",
      "source": [
        "from PIL import Image\n",
        "\n",
        "# Load and preprocess the image\n",
        "image_path = '/content/drive/MyDrive/Vegetable/Images/Vegetable/validation/Bean/1222.jpg'\n",
        "image = Image.open(image_path).convert('RGB')\n",
        "transform = transforms.Compose([\n",
        "    transforms.Resize((224, 224)),\n",
        "    transforms.ToTensor(),\n",
        "    transforms.Normalize(mean=[0.485, 0.456, 0.406], std=[0.229, 0.224, 0.225]),\n",
        "])\n",
        "input_image = transform(image).unsqueeze(0).to(device)\n"
      ],
      "metadata": {
        "id": "bDOH35lWO0qC"
      },
      "execution_count": 33,
      "outputs": []
    },
    {
      "cell_type": "code",
      "source": [
        "with torch.no_grad():\n",
        "    output = model(input_image)\n",
        "    _, predicted = torch.max(output.data, 1)\n",
        "\n",
        "predicted_label = train_dataset.classes[predicted.item()]\n",
        "print(\"Predicted label:\", predicted_label)\n"
      ],
      "metadata": {
        "colab": {
          "base_uri": "https://localhost:8080/"
        },
        "id": "D6E7dCp3O1bt",
        "outputId": "509b50c1-c7f4-49a5-d6f4-4dc0330af6f0"
      },
      "execution_count": 34,
      "outputs": [
        {
          "output_type": "stream",
          "name": "stdout",
          "text": [
            "Predicted label: Bean\n"
          ]
        }
      ]
    },
    {
      "cell_type": "code",
      "source": [],
      "metadata": {
        "id": "BK4_JNBsPAM2"
      },
      "execution_count": null,
      "outputs": []
    }
  ]
}