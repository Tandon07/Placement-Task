{
 "cells": [
  {
   "cell_type": "code",
   "execution_count": 4,
   "id": "77f92f26",
   "metadata": {},
   "outputs": [],
   "source": [
    "s='write write write all the number from from from 1 to 100'\n",
    "l=s.split(\" \")"
   ]
  },
  {
   "cell_type": "code",
   "execution_count": 12,
   "id": "3f99104c",
   "metadata": {},
   "outputs": [],
   "source": [
    "def find_highest_frequency_word_length(string):\n",
    "    words = string.split()\n",
    "\n",
    "    word_frequency = {}\n",
    "    for word in words:\n",
    "        word_frequency[word] = word_frequency.get(word, 0) + 1\n",
    "\n",
    "    max_frequency = max(word_frequency.values())\n",
    "\n",
    "    highest_frequency_word = max(word_frequency, key=word_frequency.get)\n",
    "    highest_frequency_word_length = len(highest_frequency_word)\n",
    "\n",
    "    return highest_frequency_word_length\n"
   ]
  },
  {
   "cell_type": "code",
   "execution_count": 13,
   "id": "9aa5154c",
   "metadata": {},
   "outputs": [
    {
     "name": "stdout",
     "output_type": "stream",
     "text": [
      "5\n"
     ]
    }
   ],
   "source": [
    "# Test case 1\n",
    "string1 = \"write write write all the number from from from 1 to 100\"\n",
    "print(find_highest_frequency_word_length(string1))\n"
   ]
  },
  {
   "cell_type": "code",
   "execution_count": 14,
   "id": "da01b7c5",
   "metadata": {},
   "outputs": [
    {
     "name": "stdout",
     "output_type": "stream",
     "text": [
      "5\n"
     ]
    }
   ],
   "source": [
    "# Test case 2\n",
    "string2 = \"hello hello world world world world\"\n",
    "print(find_highest_frequency_word_length(string2))\n",
    "\n"
   ]
  },
  {
   "cell_type": "code",
   "execution_count": 15,
   "id": "f685bfbc",
   "metadata": {},
   "outputs": [
    {
     "name": "stdout",
     "output_type": "stream",
     "text": [
      "6\n"
     ]
    }
   ],
   "source": [
    "# Test case 3\n",
    "string3 = \"apple apple orange orange orange orange orange\"\n",
    "print(find_highest_frequency_word_length(string3)) "
   ]
  },
  {
   "cell_type": "code",
   "execution_count": null,
   "id": "074ef9ec",
   "metadata": {},
   "outputs": [],
   "source": []
  }
 ],
 "metadata": {
  "kernelspec": {
   "display_name": "Python 3 (ipykernel)",
   "language": "python",
   "name": "python3"
  },
  "language_info": {
   "codemirror_mode": {
    "name": "ipython",
    "version": 3
   },
   "file_extension": ".py",
   "mimetype": "text/x-python",
   "name": "python",
   "nbconvert_exporter": "python",
   "pygments_lexer": "ipython3",
   "version": "3.9.12"
  }
 },
 "nbformat": 4,
 "nbformat_minor": 5
}
