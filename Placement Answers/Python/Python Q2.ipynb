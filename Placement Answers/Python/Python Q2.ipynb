{
 "cells": [
  {
   "cell_type": "code",
   "execution_count": 1,
   "id": "a8ee25a4",
   "metadata": {},
   "outputs": [],
   "source": [
    "def is_valid_string(s):\n",
    "\n",
    "    char_frequency = {}\n",
    "    for char in s:\n",
    "        char_frequency[char] = char_frequency.get(char, 0) + 1\n",
    "\n",
    "    frequency_frequency = {}\n",
    "    for freq in char_frequency.values():\n",
    "        frequency_frequency[freq] = frequency_frequency.get(freq, 0) + 1\n",
    "\n",
    "    if len(frequency_frequency) == 1:\n",
    "        return \"YES\"\n",
    "\n",
    "    # if there are more than two frequencies, it's not a valid string\n",
    "    if len(frequency_frequency) > 2:\n",
    "        return \"NO\"\n",
    "\n",
    "    # if there are exactly two frequencies\n",
    "    freq1, freq2 = frequency_frequency.keys()\n",
    "    count1, count2 = frequency_frequency.values()\n",
    "\n",
    "    # if one of the frequencies occurs only once and can be removed, it's a valid string\n",
    "    if (count1 == 1 and freq1 == 1) or (count2 == 1 and freq2 == 1):\n",
    "        return \"YES\"\n",
    "\n",
    "    # if the difference between the two frequencies is 1 and one of them occurs only once, it's a valid string\n",
    "    if (count1 == 1 and count2 == 1 and abs(freq1 - freq2) == 1):\n",
    "        return \"YES\"\n",
    "\n",
    "    return \"NO\"\n",
    "\n"
   ]
  },
  {
   "cell_type": "code",
   "execution_count": 2,
   "id": "c5b94502",
   "metadata": {},
   "outputs": [
    {
     "name": "stdout",
     "output_type": "stream",
     "text": [
      "YES\n"
     ]
    }
   ],
   "source": [
    "# Test case 1\n",
    "s1 = \"abc\"\n",
    "print(is_valid_string(s1)) \n",
    "\n"
   ]
  },
  {
   "cell_type": "code",
   "execution_count": 3,
   "id": "2e344a94",
   "metadata": {},
   "outputs": [
    {
     "name": "stdout",
     "output_type": "stream",
     "text": [
      "NO\n"
     ]
    }
   ],
   "source": [
    "# Test case 2\n",
    "s2 = \"abcc\"\n",
    "print(is_valid_string(s2))\n",
    "\n"
   ]
  },
  {
   "cell_type": "code",
   "execution_count": 4,
   "id": "e803c3b1",
   "metadata": {},
   "outputs": [
    {
     "name": "stdout",
     "output_type": "stream",
     "text": [
      "YES\n"
     ]
    }
   ],
   "source": [
    "# Test case 3\n",
    "s3 = \"aabbccd\"\n",
    "print(is_valid_string(s3))  \n"
   ]
  },
  {
   "cell_type": "code",
   "execution_count": null,
   "id": "3962e04e",
   "metadata": {},
   "outputs": [],
   "source": []
  }
 ],
 "metadata": {
  "kernelspec": {
   "display_name": "Python 3 (ipykernel)",
   "language": "python",
   "name": "python3"
  },
  "language_info": {
   "codemirror_mode": {
    "name": "ipython",
    "version": 3
   },
   "file_extension": ".py",
   "mimetype": "text/x-python",
   "name": "python",
   "nbconvert_exporter": "python",
   "pygments_lexer": "ipython3",
   "version": "3.9.12"
  }
 },
 "nbformat": 4,
 "nbformat_minor": 5
}
