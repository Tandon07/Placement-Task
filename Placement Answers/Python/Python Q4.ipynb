{
 "cells": [
  {
   "cell_type": "code",
   "execution_count": 1,
   "id": "e3cf98cc",
   "metadata": {},
   "outputs": [],
   "source": [
    "import requests\n",
    "import pandas as pd\n",
    "\n",
    "url = 'https://data.nasa.gov/resource/y77d-th95.json'\n",
    "response = requests.get(url)               #downloading the raw json using requests\n",
    "data = response.json()\n",
    "\n"
   ]
  },
  {
   "cell_type": "code",
   "execution_count": 2,
   "id": "dc0bbff7",
   "metadata": {},
   "outputs": [],
   "source": [
    "df = pd.DataFrame(data)    # Convert JSON data to DataFrame"
   ]
  },
  {
   "cell_type": "code",
   "execution_count": 3,
   "id": "760c38bb",
   "metadata": {},
   "outputs": [],
   "source": [
    "output_file_q4 = 'nasa_data.csv'           #creating output file\n",
    "df.to_csv(output_file_q4, index=False)"
   ]
  },
  {
   "cell_type": "code",
   "execution_count": null,
   "id": "1e9e9206",
   "metadata": {},
   "outputs": [],
   "source": []
  }
 ],
 "metadata": {
  "kernelspec": {
   "display_name": "Python 3 (ipykernel)",
   "language": "python",
   "name": "python3"
  },
  "language_info": {
   "codemirror_mode": {
    "name": "ipython",
    "version": 3
   },
   "file_extension": ".py",
   "mimetype": "text/x-python",
   "name": "python",
   "nbconvert_exporter": "python",
   "pygments_lexer": "ipython3",
   "version": "3.9.12"
  }
 },
 "nbformat": 4,
 "nbformat_minor": 5
}
