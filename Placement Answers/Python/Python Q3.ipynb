{
 "cells": [
  {
   "cell_type": "code",
   "execution_count": 1,
   "id": "3114a07b",
   "metadata": {},
   "outputs": [],
   "source": [
    "import requests\n",
    "import pandas as pd\n",
    "\n",
    "url = 'https://raw.githubusercontent.com/Biuni/PokemonGO-Pokedex/master/pokedex.json'\n",
    "response = requests.get(url)           \n",
    "data = response.json()\n"
   ]
  },
  {
   "cell_type": "code",
   "execution_count": 2,
   "id": "7c9bd3ec",
   "metadata": {},
   "outputs": [],
   "source": [
    "df1 = pd.DataFrame(data['pokemon']) "
   ]
  },
  {
   "cell_type": "code",
   "execution_count": 3,
   "id": "05dc7ca7",
   "metadata": {},
   "outputs": [],
   "source": [
    "output_file_q3 = 'pokemon_data.xlsx'           #creating output file\n",
    "df1.to_excel(output_file_q3, index=False)"
   ]
  },
  {
   "cell_type": "code",
   "execution_count": null,
   "id": "2a676cad",
   "metadata": {},
   "outputs": [],
   "source": []
  }
 ],
 "metadata": {
  "kernelspec": {
   "display_name": "Python 3 (ipykernel)",
   "language": "python",
   "name": "python3"
  },
  "language_info": {
   "codemirror_mode": {
    "name": "ipython",
    "version": 3
   },
   "file_extension": ".py",
   "mimetype": "text/x-python",
   "name": "python",
   "nbconvert_exporter": "python",
   "pygments_lexer": "ipython3",
   "version": "3.9.12"
  }
 },
 "nbformat": 4,
 "nbformat_minor": 5
}
