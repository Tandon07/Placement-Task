{
 "cells": [
  {
   "cell_type": "code",
   "execution_count": 15,
   "id": "5fe76399",
   "metadata": {},
   "outputs": [
    {
     "name": "stderr",
     "output_type": "stream",
     "text": [
      "[nltk_data] Downloading package averaged_perceptron_tagger to\n",
      "[nltk_data]     C:\\Users\\tando\\AppData\\Roaming\\nltk_data...\n",
      "[nltk_data]   Package averaged_perceptron_tagger is already up-to-\n",
      "[nltk_data]       date!\n"
     ]
    },
    {
     "data": {
      "text/plain": [
       "True"
      ]
     },
     "execution_count": 15,
     "metadata": {},
     "output_type": "execute_result"
    }
   ],
   "source": [
    "import nltk\n",
    "nltk.download('averaged_perceptron_tagger')\n"
   ]
  },
  {
   "cell_type": "code",
   "execution_count": 17,
   "id": "d54c2b3c",
   "metadata": {},
   "outputs": [
    {
     "name": "stdout",
     "output_type": "stream",
     "text": [
      "Phrase 1 POS Counts: {'verbs': 2, 'nouns': 1, 'pronouns': 1, 'adjectives': 0}\n",
      "Phrase 2 POS Counts: {'verbs': 2, 'nouns': 2, 'pronouns': 0, 'adjectives': 0}\n"
     ]
    }
   ],
   "source": [
    "import nltk\n",
    "from nltk import pos_tag\n",
    "from nltk.tokenize import word_tokenize\n",
    "\n",
    "def count_pos_tags(text):\n",
    "    # tokenize the text into words\n",
    "    words = word_tokenize(text)\n",
    "    \n",
    "    # perform Part-of-Speech tagging\n",
    "    tagged_words = pos_tag(words)\n",
    "    \n",
    "    # Initialize counts\n",
    "    verb_count = 0\n",
    "    noun_count = 0\n",
    "    pronoun_count = 0\n",
    "    adjective_count = 0\n",
    "    \n",
    "    # count the number of verbs, nouns, pronouns, and adjectives\n",
    "    for word, tag in tagged_words:\n",
    "        if tag.startswith('VB'):\n",
    "            verb_count += 1\n",
    "        elif tag.startswith('NN'):\n",
    "            noun_count += 1\n",
    "        elif tag == 'PRP' or tag == 'PRP$':\n",
    "            pronoun_count += 1\n",
    "        elif tag.startswith('JJ'):\n",
    "            adjective_count += 1\n",
    "    \n",
    "    # create a dictionary to store the counts\n",
    "    pos_counts = {\n",
    "        'verbs': verb_count,\n",
    "        'nouns': noun_count,\n",
    "        'pronouns': pronoun_count,\n",
    "        'adjectives': adjective_count\n",
    "    }\n",
    "    \n",
    "    return pos_counts\n",
    "\n",
    "# test the function with sample phrases\n",
    "phrase1 = \"I like to run in the park\"\n",
    "phrase2 = \"The cat is sitting on the mat\"\n",
    "\n",
    "pos_counts1 = count_pos_tags(phrase1)\n",
    "pos_counts2 = count_pos_tags(phrase2)\n",
    "\n",
    "print(\"Phrase 1 POS Counts:\", pos_counts1)\n",
    "print(\"Phrase 2 POS Counts:\", pos_counts2)\n"
   ]
  },
  {
   "cell_type": "code",
   "execution_count": null,
   "id": "b689353a",
   "metadata": {},
   "outputs": [],
   "source": []
  },
  {
   "cell_type": "code",
   "execution_count": null,
   "id": "ca8688db",
   "metadata": {},
   "outputs": [],
   "source": []
  }
 ],
 "metadata": {
  "kernelspec": {
   "display_name": "Python 3 (ipykernel)",
   "language": "python",
   "name": "python3"
  },
  "language_info": {
   "codemirror_mode": {
    "name": "ipython",
    "version": 3
   },
   "file_extension": ".py",
   "mimetype": "text/x-python",
   "name": "python",
   "nbconvert_exporter": "python",
   "pygments_lexer": "ipython3",
   "version": "3.9.12"
  }
 },
 "nbformat": 4,
 "nbformat_minor": 5
}
