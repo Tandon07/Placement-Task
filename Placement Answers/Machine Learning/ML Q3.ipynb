{
 "cells": [
  {
   "cell_type": "code",
   "execution_count": 1,
   "id": "9910bd37",
   "metadata": {
    "execution": {
     "iopub.execute_input": "2023-05-24T07:25:01.907103Z",
     "iopub.status.busy": "2023-05-24T07:25:01.906319Z",
     "iopub.status.idle": "2023-05-24T07:25:04.043059Z",
     "shell.execute_reply": "2023-05-24T07:25:04.041836Z"
    },
    "papermill": {
     "duration": 2.15605,
     "end_time": "2023-05-24T07:25:04.046177",
     "exception": false,
     "start_time": "2023-05-24T07:25:01.890127",
     "status": "completed"
    },
    "tags": []
   },
   "outputs": [
    {
     "name": "stderr",
     "output_type": "stream",
     "text": [
      "/opt/conda/lib/python3.10/site-packages/scipy/__init__.py:146: UserWarning: A NumPy version >=1.16.5 and <1.23.0 is required for this version of SciPy (detected version 1.23.5\n",
      "  warnings.warn(f\"A NumPy version >={np_minversion} and <{np_maxversion}\"\n"
     ]
    }
   ],
   "source": [
    "import os\n",
    "import pandas as pd\n",
    "import numpy as np\n",
    "import matplotlib.pyplot as plt\n",
    "import seaborn as sns\n",
    "from sklearn.model_selection import train_test_split\n",
    "from sklearn import preprocessing\n",
    "from sklearn.model_selection import KFold\n",
    "from sklearn.neighbors import KNeighborsClassifier\n",
    "from sklearn.svm import SVC\n",
    "from sklearn.ensemble import RandomForestClassifier \n",
    "from sklearn.metrics import accuracy_score"
   ]
  },
  {
   "cell_type": "code",
   "execution_count": 2,
   "id": "8299cd50",
   "metadata": {
    "execution": {
     "iopub.execute_input": "2023-05-24T07:25:04.069813Z",
     "iopub.status.busy": "2023-05-24T07:25:04.069383Z",
     "iopub.status.idle": "2023-05-24T07:25:04.074216Z",
     "shell.execute_reply": "2023-05-24T07:25:04.073146Z"
    },
    "papermill": {
     "duration": 0.0194,
     "end_time": "2023-05-24T07:25:04.076398",
     "exception": false,
     "start_time": "2023-05-24T07:25:04.056998",
     "status": "completed"
    },
    "tags": []
   },
   "outputs": [],
   "source": [
    "import warnings\n",
    "warnings.filterwarnings(\"ignore\")"
   ]
  },
  {
   "cell_type": "code",
   "execution_count": 3,
   "id": "67a58021",
   "metadata": {
    "execution": {
     "iopub.execute_input": "2023-05-24T07:25:04.099116Z",
     "iopub.status.busy": "2023-05-24T07:25:04.097871Z",
     "iopub.status.idle": "2023-05-24T07:25:04.103200Z",
     "shell.execute_reply": "2023-05-24T07:25:04.102021Z"
    },
    "papermill": {
     "duration": 0.019355,
     "end_time": "2023-05-24T07:25:04.105869",
     "exception": false,
     "start_time": "2023-05-24T07:25:04.086514",
     "status": "completed"
    },
    "tags": []
   },
   "outputs": [],
   "source": [
    "# cur_dir = \"/kaggle/working\"\n",
    "csv_file_path = \"/kaggle/input/online-shoppers-intention/online_shoppers_intention.csv\""
   ]
  },
  {
   "cell_type": "code",
   "execution_count": 4,
   "id": "564fada5",
   "metadata": {
    "execution": {
     "iopub.execute_input": "2023-05-24T07:25:04.128598Z",
     "iopub.status.busy": "2023-05-24T07:25:04.127742Z",
     "iopub.status.idle": "2023-05-24T07:25:04.211354Z",
     "shell.execute_reply": "2023-05-24T07:25:04.210181Z"
    },
    "papermill": {
     "duration": 0.098297,
     "end_time": "2023-05-24T07:25:04.214227",
     "exception": false,
     "start_time": "2023-05-24T07:25:04.115930",
     "status": "completed"
    },
    "tags": []
   },
   "outputs": [],
   "source": [
    "df=pd.read_csv(csv_file_path)"
   ]
  },
  {
   "cell_type": "code",
   "execution_count": 5,
   "id": "4be305b8",
   "metadata": {
    "execution": {
     "iopub.execute_input": "2023-05-24T07:25:04.236086Z",
     "iopub.status.busy": "2023-05-24T07:25:04.235633Z",
     "iopub.status.idle": "2023-05-24T07:25:04.278591Z",
     "shell.execute_reply": "2023-05-24T07:25:04.277409Z"
    },
    "papermill": {
     "duration": 0.057,
     "end_time": "2023-05-24T07:25:04.281361",
     "exception": false,
     "start_time": "2023-05-24T07:25:04.224361",
     "status": "completed"
    },
    "tags": []
   },
   "outputs": [
    {
     "data": {
      "text/html": [
       "<div>\n",
       "<style scoped>\n",
       "    .dataframe tbody tr th:only-of-type {\n",
       "        vertical-align: middle;\n",
       "    }\n",
       "\n",
       "    .dataframe tbody tr th {\n",
       "        vertical-align: top;\n",
       "    }\n",
       "\n",
       "    .dataframe thead th {\n",
       "        text-align: right;\n",
       "    }\n",
       "</style>\n",
       "<table border=\"1\" class=\"dataframe\">\n",
       "  <thead>\n",
       "    <tr style=\"text-align: right;\">\n",
       "      <th></th>\n",
       "      <th>Administrative</th>\n",
       "      <th>Administrative_Duration</th>\n",
       "      <th>Informational</th>\n",
       "      <th>Informational_Duration</th>\n",
       "      <th>ProductRelated</th>\n",
       "      <th>ProductRelated_Duration</th>\n",
       "      <th>BounceRates</th>\n",
       "      <th>ExitRates</th>\n",
       "      <th>PageValues</th>\n",
       "      <th>SpecialDay</th>\n",
       "      <th>Month</th>\n",
       "      <th>OperatingSystems</th>\n",
       "      <th>Browser</th>\n",
       "      <th>Region</th>\n",
       "      <th>TrafficType</th>\n",
       "      <th>VisitorType</th>\n",
       "      <th>Weekend</th>\n",
       "      <th>Revenue</th>\n",
       "    </tr>\n",
       "  </thead>\n",
       "  <tbody>\n",
       "    <tr>\n",
       "      <th>0</th>\n",
       "      <td>0</td>\n",
       "      <td>0.0</td>\n",
       "      <td>0</td>\n",
       "      <td>0.0</td>\n",
       "      <td>1</td>\n",
       "      <td>0.000000</td>\n",
       "      <td>0.20</td>\n",
       "      <td>0.20</td>\n",
       "      <td>0.0</td>\n",
       "      <td>0.0</td>\n",
       "      <td>Feb</td>\n",
       "      <td>1</td>\n",
       "      <td>1</td>\n",
       "      <td>1</td>\n",
       "      <td>1</td>\n",
       "      <td>Returning_Visitor</td>\n",
       "      <td>False</td>\n",
       "      <td>False</td>\n",
       "    </tr>\n",
       "    <tr>\n",
       "      <th>1</th>\n",
       "      <td>0</td>\n",
       "      <td>0.0</td>\n",
       "      <td>0</td>\n",
       "      <td>0.0</td>\n",
       "      <td>2</td>\n",
       "      <td>64.000000</td>\n",
       "      <td>0.00</td>\n",
       "      <td>0.10</td>\n",
       "      <td>0.0</td>\n",
       "      <td>0.0</td>\n",
       "      <td>Feb</td>\n",
       "      <td>2</td>\n",
       "      <td>2</td>\n",
       "      <td>1</td>\n",
       "      <td>2</td>\n",
       "      <td>Returning_Visitor</td>\n",
       "      <td>False</td>\n",
       "      <td>False</td>\n",
       "    </tr>\n",
       "    <tr>\n",
       "      <th>2</th>\n",
       "      <td>0</td>\n",
       "      <td>0.0</td>\n",
       "      <td>0</td>\n",
       "      <td>0.0</td>\n",
       "      <td>1</td>\n",
       "      <td>0.000000</td>\n",
       "      <td>0.20</td>\n",
       "      <td>0.20</td>\n",
       "      <td>0.0</td>\n",
       "      <td>0.0</td>\n",
       "      <td>Feb</td>\n",
       "      <td>4</td>\n",
       "      <td>1</td>\n",
       "      <td>9</td>\n",
       "      <td>3</td>\n",
       "      <td>Returning_Visitor</td>\n",
       "      <td>False</td>\n",
       "      <td>False</td>\n",
       "    </tr>\n",
       "    <tr>\n",
       "      <th>3</th>\n",
       "      <td>0</td>\n",
       "      <td>0.0</td>\n",
       "      <td>0</td>\n",
       "      <td>0.0</td>\n",
       "      <td>2</td>\n",
       "      <td>2.666667</td>\n",
       "      <td>0.05</td>\n",
       "      <td>0.14</td>\n",
       "      <td>0.0</td>\n",
       "      <td>0.0</td>\n",
       "      <td>Feb</td>\n",
       "      <td>3</td>\n",
       "      <td>2</td>\n",
       "      <td>2</td>\n",
       "      <td>4</td>\n",
       "      <td>Returning_Visitor</td>\n",
       "      <td>False</td>\n",
       "      <td>False</td>\n",
       "    </tr>\n",
       "    <tr>\n",
       "      <th>4</th>\n",
       "      <td>0</td>\n",
       "      <td>0.0</td>\n",
       "      <td>0</td>\n",
       "      <td>0.0</td>\n",
       "      <td>10</td>\n",
       "      <td>627.500000</td>\n",
       "      <td>0.02</td>\n",
       "      <td>0.05</td>\n",
       "      <td>0.0</td>\n",
       "      <td>0.0</td>\n",
       "      <td>Feb</td>\n",
       "      <td>3</td>\n",
       "      <td>3</td>\n",
       "      <td>1</td>\n",
       "      <td>4</td>\n",
       "      <td>Returning_Visitor</td>\n",
       "      <td>True</td>\n",
       "      <td>False</td>\n",
       "    </tr>\n",
       "  </tbody>\n",
       "</table>\n",
       "</div>"
      ],
      "text/plain": [
       "   Administrative  Administrative_Duration  Informational  \\\n",
       "0               0                      0.0              0   \n",
       "1               0                      0.0              0   \n",
       "2               0                      0.0              0   \n",
       "3               0                      0.0              0   \n",
       "4               0                      0.0              0   \n",
       "\n",
       "   Informational_Duration  ProductRelated  ProductRelated_Duration  \\\n",
       "0                     0.0               1                 0.000000   \n",
       "1                     0.0               2                64.000000   \n",
       "2                     0.0               1                 0.000000   \n",
       "3                     0.0               2                 2.666667   \n",
       "4                     0.0              10               627.500000   \n",
       "\n",
       "   BounceRates  ExitRates  PageValues  SpecialDay Month  OperatingSystems  \\\n",
       "0         0.20       0.20         0.0         0.0   Feb                 1   \n",
       "1         0.00       0.10         0.0         0.0   Feb                 2   \n",
       "2         0.20       0.20         0.0         0.0   Feb                 4   \n",
       "3         0.05       0.14         0.0         0.0   Feb                 3   \n",
       "4         0.02       0.05         0.0         0.0   Feb                 3   \n",
       "\n",
       "   Browser  Region  TrafficType        VisitorType  Weekend  Revenue  \n",
       "0        1       1            1  Returning_Visitor    False    False  \n",
       "1        2       1            2  Returning_Visitor    False    False  \n",
       "2        1       9            3  Returning_Visitor    False    False  \n",
       "3        2       2            4  Returning_Visitor    False    False  \n",
       "4        3       1            4  Returning_Visitor     True    False  "
      ]
     },
     "execution_count": 5,
     "metadata": {},
     "output_type": "execute_result"
    }
   ],
   "source": [
    "df.head()"
   ]
  },
  {
   "cell_type": "code",
   "execution_count": 6,
   "id": "e9f533fb",
   "metadata": {
    "execution": {
     "iopub.execute_input": "2023-05-24T07:25:04.303841Z",
     "iopub.status.busy": "2023-05-24T07:25:04.303407Z",
     "iopub.status.idle": "2023-05-24T07:25:04.318709Z",
     "shell.execute_reply": "2023-05-24T07:25:04.317593Z"
    },
    "papermill": {
     "duration": 0.029222,
     "end_time": "2023-05-24T07:25:04.321056",
     "exception": false,
     "start_time": "2023-05-24T07:25:04.291834",
     "status": "completed"
    },
    "tags": []
   },
   "outputs": [
    {
     "data": {
      "text/plain": [
       "Returning_Visitor    10551\n",
       "New_Visitor           1694\n",
       "Other                   85\n",
       "Name: VisitorType, dtype: int64"
      ]
     },
     "execution_count": 6,
     "metadata": {},
     "output_type": "execute_result"
    }
   ],
   "source": [
    "df['VisitorType'].value_counts()"
   ]
  },
  {
   "cell_type": "code",
   "execution_count": 7,
   "id": "6087edfa",
   "metadata": {
    "execution": {
     "iopub.execute_input": "2023-05-24T07:25:04.344179Z",
     "iopub.status.busy": "2023-05-24T07:25:04.343167Z",
     "iopub.status.idle": "2023-05-24T07:25:04.352957Z",
     "shell.execute_reply": "2023-05-24T07:25:04.351997Z"
    },
    "papermill": {
     "duration": 0.02369,
     "end_time": "2023-05-24T07:25:04.355223",
     "exception": false,
     "start_time": "2023-05-24T07:25:04.331533",
     "status": "completed"
    },
    "tags": []
   },
   "outputs": [
    {
     "data": {
      "text/plain": [
       "May     3364\n",
       "Nov     2998\n",
       "Mar     1907\n",
       "Dec     1727\n",
       "Oct      549\n",
       "Sep      448\n",
       "Aug      433\n",
       "Jul      432\n",
       "June     288\n",
       "Feb      184\n",
       "Name: Month, dtype: int64"
      ]
     },
     "execution_count": 7,
     "metadata": {},
     "output_type": "execute_result"
    }
   ],
   "source": [
    "df['Month'].value_counts()"
   ]
  },
  {
   "cell_type": "code",
   "execution_count": 8,
   "id": "763cc164",
   "metadata": {
    "execution": {
     "iopub.execute_input": "2023-05-24T07:25:04.379411Z",
     "iopub.status.busy": "2023-05-24T07:25:04.378488Z",
     "iopub.status.idle": "2023-05-24T07:25:04.388698Z",
     "shell.execute_reply": "2023-05-24T07:25:04.387611Z"
    },
    "papermill": {
     "duration": 0.025285,
     "end_time": "2023-05-24T07:25:04.391250",
     "exception": false,
     "start_time": "2023-05-24T07:25:04.365965",
     "status": "completed"
    },
    "tags": []
   },
   "outputs": [
    {
     "data": {
      "text/plain": [
       "Returning_Visitor    10551\n",
       "New_Visitor           1694\n",
       "Other                   85\n",
       "Name: VisitorType, dtype: int64"
      ]
     },
     "execution_count": 8,
     "metadata": {},
     "output_type": "execute_result"
    }
   ],
   "source": [
    "df['VisitorType'].value_counts()"
   ]
  },
  {
   "cell_type": "code",
   "execution_count": 9,
   "id": "aa4e3632",
   "metadata": {
    "execution": {
     "iopub.execute_input": "2023-05-24T07:25:04.416106Z",
     "iopub.status.busy": "2023-05-24T07:25:04.415650Z",
     "iopub.status.idle": "2023-05-24T07:25:04.435148Z",
     "shell.execute_reply": "2023-05-24T07:25:04.434146Z"
    },
    "papermill": {
     "duration": 0.034809,
     "end_time": "2023-05-24T07:25:04.437491",
     "exception": false,
     "start_time": "2023-05-24T07:25:04.402682",
     "status": "completed"
    },
    "tags": []
   },
   "outputs": [
    {
     "data": {
      "text/plain": [
       "Administrative             0\n",
       "Administrative_Duration    0\n",
       "Informational              0\n",
       "Informational_Duration     0\n",
       "ProductRelated             0\n",
       "ProductRelated_Duration    0\n",
       "BounceRates                0\n",
       "ExitRates                  0\n",
       "PageValues                 0\n",
       "SpecialDay                 0\n",
       "Month                      0\n",
       "OperatingSystems           0\n",
       "Browser                    0\n",
       "Region                     0\n",
       "TrafficType                0\n",
       "VisitorType                0\n",
       "Weekend                    0\n",
       "Revenue                    0\n",
       "dtype: int64"
      ]
     },
     "execution_count": 9,
     "metadata": {},
     "output_type": "execute_result"
    }
   ],
   "source": [
    "df.isnull().sum()"
   ]
  },
  {
   "cell_type": "code",
   "execution_count": 10,
   "id": "58765684",
   "metadata": {
    "execution": {
     "iopub.execute_input": "2023-05-24T07:25:04.461649Z",
     "iopub.status.busy": "2023-05-24T07:25:04.461222Z",
     "iopub.status.idle": "2023-05-24T07:25:04.466422Z",
     "shell.execute_reply": "2023-05-24T07:25:04.465112Z"
    },
    "papermill": {
     "duration": 0.02054,
     "end_time": "2023-05-24T07:25:04.469060",
     "exception": false,
     "start_time": "2023-05-24T07:25:04.448520",
     "status": "completed"
    },
    "tags": []
   },
   "outputs": [],
   "source": [
    "from sklearn import preprocessing\n",
    "le = preprocessing.LabelEncoder()"
   ]
  },
  {
   "cell_type": "markdown",
   "id": "133b913a",
   "metadata": {
    "papermill": {
     "duration": 0.010646,
     "end_time": "2023-05-24T07:25:04.491134",
     "exception": false,
     "start_time": "2023-05-24T07:25:04.480488",
     "status": "completed"
    },
    "tags": []
   },
   "source": []
  },
  {
   "cell_type": "code",
   "execution_count": 11,
   "id": "d329872a",
   "metadata": {
    "execution": {
     "iopub.execute_input": "2023-05-24T07:25:04.516130Z",
     "iopub.status.busy": "2023-05-24T07:25:04.515337Z",
     "iopub.status.idle": "2023-05-24T07:25:04.531929Z",
     "shell.execute_reply": "2023-05-24T07:25:04.530998Z"
    },
    "papermill": {
     "duration": 0.031844,
     "end_time": "2023-05-24T07:25:04.534671",
     "exception": false,
     "start_time": "2023-05-24T07:25:04.502827",
     "status": "completed"
    },
    "tags": []
   },
   "outputs": [],
   "source": [
    "df['Month'] = le.fit_transform(df.Month.values)\n",
    "df['VisitorType'] = le.fit_transform(df.VisitorType.values)\n",
    "df['Weekend'] = le.fit_transform(df.Weekend.values)"
   ]
  },
  {
   "cell_type": "code",
   "execution_count": 12,
   "id": "a887c5b5",
   "metadata": {
    "execution": {
     "iopub.execute_input": "2023-05-24T07:25:04.558865Z",
     "iopub.status.busy": "2023-05-24T07:25:04.558203Z",
     "iopub.status.idle": "2023-05-24T07:25:04.580428Z",
     "shell.execute_reply": "2023-05-24T07:25:04.578851Z"
    },
    "papermill": {
     "duration": 0.037264,
     "end_time": "2023-05-24T07:25:04.582933",
     "exception": false,
     "start_time": "2023-05-24T07:25:04.545669",
     "status": "completed"
    },
    "tags": []
   },
   "outputs": [
    {
     "name": "stdout",
     "output_type": "stream",
     "text": [
      "<class 'pandas.core.frame.DataFrame'>\n",
      "RangeIndex: 12330 entries, 0 to 12329\n",
      "Data columns (total 18 columns):\n",
      " #   Column                   Non-Null Count  Dtype  \n",
      "---  ------                   --------------  -----  \n",
      " 0   Administrative           12330 non-null  int64  \n",
      " 1   Administrative_Duration  12330 non-null  float64\n",
      " 2   Informational            12330 non-null  int64  \n",
      " 3   Informational_Duration   12330 non-null  float64\n",
      " 4   ProductRelated           12330 non-null  int64  \n",
      " 5   ProductRelated_Duration  12330 non-null  float64\n",
      " 6   BounceRates              12330 non-null  float64\n",
      " 7   ExitRates                12330 non-null  float64\n",
      " 8   PageValues               12330 non-null  float64\n",
      " 9   SpecialDay               12330 non-null  float64\n",
      " 10  Month                    12330 non-null  int64  \n",
      " 11  OperatingSystems         12330 non-null  int64  \n",
      " 12  Browser                  12330 non-null  int64  \n",
      " 13  Region                   12330 non-null  int64  \n",
      " 14  TrafficType              12330 non-null  int64  \n",
      " 15  VisitorType              12330 non-null  int64  \n",
      " 16  Weekend                  12330 non-null  int64  \n",
      " 17  Revenue                  12330 non-null  bool   \n",
      "dtypes: bool(1), float64(7), int64(10)\n",
      "memory usage: 1.6 MB\n"
     ]
    }
   ],
   "source": [
    "df.info()"
   ]
  },
  {
   "cell_type": "code",
   "execution_count": 13,
   "id": "af4b2ec7",
   "metadata": {
    "execution": {
     "iopub.execute_input": "2023-05-24T07:25:04.607353Z",
     "iopub.status.busy": "2023-05-24T07:25:04.606299Z",
     "iopub.status.idle": "2023-05-24T07:25:04.611579Z",
     "shell.execute_reply": "2023-05-24T07:25:04.610370Z"
    },
    "papermill": {
     "duration": 0.01978,
     "end_time": "2023-05-24T07:25:04.613793",
     "exception": false,
     "start_time": "2023-05-24T07:25:04.594013",
     "status": "completed"
    },
    "tags": []
   },
   "outputs": [],
   "source": [
    "# Normalizing the columns"
   ]
  },
  {
   "cell_type": "code",
   "execution_count": 14,
   "id": "7a82564c",
   "metadata": {
    "execution": {
     "iopub.execute_input": "2023-05-24T07:25:04.638138Z",
     "iopub.status.busy": "2023-05-24T07:25:04.637684Z",
     "iopub.status.idle": "2023-05-24T07:25:04.643214Z",
     "shell.execute_reply": "2023-05-24T07:25:04.642186Z"
    },
    "papermill": {
     "duration": 0.020407,
     "end_time": "2023-05-24T07:25:04.645396",
     "exception": false,
     "start_time": "2023-05-24T07:25:04.624989",
     "status": "completed"
    },
    "tags": []
   },
   "outputs": [],
   "source": [
    "from sklearn.preprocessing import MinMaxScaler\n",
    "\n",
    "float_columns= df.select_dtypes(include=['float64']).columns\n"
   ]
  },
  {
   "cell_type": "code",
   "execution_count": 15,
   "id": "66a0e3de",
   "metadata": {
    "execution": {
     "iopub.execute_input": "2023-05-24T07:25:04.669789Z",
     "iopub.status.busy": "2023-05-24T07:25:04.669030Z",
     "iopub.status.idle": "2023-05-24T07:25:04.673575Z",
     "shell.execute_reply": "2023-05-24T07:25:04.672651Z"
    },
    "papermill": {
     "duration": 0.019478,
     "end_time": "2023-05-24T07:25:04.675837",
     "exception": false,
     "start_time": "2023-05-24T07:25:04.656359",
     "status": "completed"
    },
    "tags": []
   },
   "outputs": [],
   "source": [
    "float_columns=list(float_columns)"
   ]
  },
  {
   "cell_type": "code",
   "execution_count": 16,
   "id": "e12443b8",
   "metadata": {
    "execution": {
     "iopub.execute_input": "2023-05-24T07:25:04.700408Z",
     "iopub.status.busy": "2023-05-24T07:25:04.699697Z",
     "iopub.status.idle": "2023-05-24T07:25:04.704413Z",
     "shell.execute_reply": "2023-05-24T07:25:04.703530Z"
    },
    "papermill": {
     "duration": 0.019878,
     "end_time": "2023-05-24T07:25:04.706717",
     "exception": false,
     "start_time": "2023-05-24T07:25:04.686839",
     "status": "completed"
    },
    "tags": []
   },
   "outputs": [],
   "source": [
    "float_columns.remove('SpecialDay')"
   ]
  },
  {
   "cell_type": "code",
   "execution_count": 17,
   "id": "267fcef2",
   "metadata": {
    "execution": {
     "iopub.execute_input": "2023-05-24T07:25:04.731036Z",
     "iopub.status.busy": "2023-05-24T07:25:04.730205Z",
     "iopub.status.idle": "2023-05-24T07:25:04.735152Z",
     "shell.execute_reply": "2023-05-24T07:25:04.734101Z"
    },
    "papermill": {
     "duration": 0.019788,
     "end_time": "2023-05-24T07:25:04.737477",
     "exception": false,
     "start_time": "2023-05-24T07:25:04.717689",
     "status": "completed"
    },
    "tags": []
   },
   "outputs": [],
   "source": [
    "float_columns.append('ProductRelated')"
   ]
  },
  {
   "cell_type": "code",
   "execution_count": 18,
   "id": "5b980245",
   "metadata": {
    "execution": {
     "iopub.execute_input": "2023-05-24T07:25:04.761291Z",
     "iopub.status.busy": "2023-05-24T07:25:04.760833Z",
     "iopub.status.idle": "2023-05-24T07:25:04.767688Z",
     "shell.execute_reply": "2023-05-24T07:25:04.766870Z"
    },
    "papermill": {
     "duration": 0.021359,
     "end_time": "2023-05-24T07:25:04.769837",
     "exception": false,
     "start_time": "2023-05-24T07:25:04.748478",
     "status": "completed"
    },
    "tags": []
   },
   "outputs": [
    {
     "data": {
      "text/plain": [
       "['Administrative_Duration',\n",
       " 'Informational_Duration',\n",
       " 'ProductRelated_Duration',\n",
       " 'BounceRates',\n",
       " 'ExitRates',\n",
       " 'PageValues',\n",
       " 'ProductRelated']"
      ]
     },
     "execution_count": 18,
     "metadata": {},
     "output_type": "execute_result"
    }
   ],
   "source": [
    "float_columns"
   ]
  },
  {
   "cell_type": "code",
   "execution_count": 19,
   "id": "d5d3f089",
   "metadata": {
    "execution": {
     "iopub.execute_input": "2023-05-24T07:25:04.794313Z",
     "iopub.status.busy": "2023-05-24T07:25:04.793513Z",
     "iopub.status.idle": "2023-05-24T07:25:04.809112Z",
     "shell.execute_reply": "2023-05-24T07:25:04.808010Z"
    },
    "papermill": {
     "duration": 0.030771,
     "end_time": "2023-05-24T07:25:04.811686",
     "exception": false,
     "start_time": "2023-05-24T07:25:04.780915",
     "status": "completed"
    },
    "tags": []
   },
   "outputs": [],
   "source": [
    "scaler=MinMaxScaler()\n",
    "df[float_columns]=scaler.fit_transform(df[float_columns])"
   ]
  },
  {
   "cell_type": "code",
   "execution_count": 20,
   "id": "9cd63ce9",
   "metadata": {
    "execution": {
     "iopub.execute_input": "2023-05-24T07:25:04.835895Z",
     "iopub.status.busy": "2023-05-24T07:25:04.835480Z",
     "iopub.status.idle": "2023-05-24T07:25:04.867186Z",
     "shell.execute_reply": "2023-05-24T07:25:04.866047Z"
    },
    "papermill": {
     "duration": 0.046559,
     "end_time": "2023-05-24T07:25:04.869679",
     "exception": false,
     "start_time": "2023-05-24T07:25:04.823120",
     "status": "completed"
    },
    "tags": []
   },
   "outputs": [
    {
     "data": {
      "text/html": [
       "<div>\n",
       "<style scoped>\n",
       "    .dataframe tbody tr th:only-of-type {\n",
       "        vertical-align: middle;\n",
       "    }\n",
       "\n",
       "    .dataframe tbody tr th {\n",
       "        vertical-align: top;\n",
       "    }\n",
       "\n",
       "    .dataframe thead th {\n",
       "        text-align: right;\n",
       "    }\n",
       "</style>\n",
       "<table border=\"1\" class=\"dataframe\">\n",
       "  <thead>\n",
       "    <tr style=\"text-align: right;\">\n",
       "      <th></th>\n",
       "      <th>Administrative</th>\n",
       "      <th>Administrative_Duration</th>\n",
       "      <th>Informational</th>\n",
       "      <th>Informational_Duration</th>\n",
       "      <th>ProductRelated</th>\n",
       "      <th>ProductRelated_Duration</th>\n",
       "      <th>BounceRates</th>\n",
       "      <th>ExitRates</th>\n",
       "      <th>PageValues</th>\n",
       "      <th>SpecialDay</th>\n",
       "      <th>Month</th>\n",
       "      <th>OperatingSystems</th>\n",
       "      <th>Browser</th>\n",
       "      <th>Region</th>\n",
       "      <th>TrafficType</th>\n",
       "      <th>VisitorType</th>\n",
       "      <th>Weekend</th>\n",
       "      <th>Revenue</th>\n",
       "    </tr>\n",
       "  </thead>\n",
       "  <tbody>\n",
       "    <tr>\n",
       "      <th>0</th>\n",
       "      <td>0</td>\n",
       "      <td>0.000000</td>\n",
       "      <td>0</td>\n",
       "      <td>0.0</td>\n",
       "      <td>0.001418</td>\n",
       "      <td>0.000000</td>\n",
       "      <td>1.000000</td>\n",
       "      <td>1.000000</td>\n",
       "      <td>0.000000</td>\n",
       "      <td>0.0</td>\n",
       "      <td>2</td>\n",
       "      <td>1</td>\n",
       "      <td>1</td>\n",
       "      <td>1</td>\n",
       "      <td>1</td>\n",
       "      <td>2</td>\n",
       "      <td>0</td>\n",
       "      <td>False</td>\n",
       "    </tr>\n",
       "    <tr>\n",
       "      <th>1</th>\n",
       "      <td>0</td>\n",
       "      <td>0.000000</td>\n",
       "      <td>0</td>\n",
       "      <td>0.0</td>\n",
       "      <td>0.002837</td>\n",
       "      <td>0.001000</td>\n",
       "      <td>0.000000</td>\n",
       "      <td>0.500000</td>\n",
       "      <td>0.000000</td>\n",
       "      <td>0.0</td>\n",
       "      <td>2</td>\n",
       "      <td>2</td>\n",
       "      <td>2</td>\n",
       "      <td>1</td>\n",
       "      <td>2</td>\n",
       "      <td>2</td>\n",
       "      <td>0</td>\n",
       "      <td>False</td>\n",
       "    </tr>\n",
       "    <tr>\n",
       "      <th>2</th>\n",
       "      <td>0</td>\n",
       "      <td>0.000000</td>\n",
       "      <td>0</td>\n",
       "      <td>0.0</td>\n",
       "      <td>0.001418</td>\n",
       "      <td>0.000000</td>\n",
       "      <td>1.000000</td>\n",
       "      <td>1.000000</td>\n",
       "      <td>0.000000</td>\n",
       "      <td>0.0</td>\n",
       "      <td>2</td>\n",
       "      <td>4</td>\n",
       "      <td>1</td>\n",
       "      <td>9</td>\n",
       "      <td>3</td>\n",
       "      <td>2</td>\n",
       "      <td>0</td>\n",
       "      <td>False</td>\n",
       "    </tr>\n",
       "    <tr>\n",
       "      <th>3</th>\n",
       "      <td>0</td>\n",
       "      <td>0.000000</td>\n",
       "      <td>0</td>\n",
       "      <td>0.0</td>\n",
       "      <td>0.002837</td>\n",
       "      <td>0.000042</td>\n",
       "      <td>0.250000</td>\n",
       "      <td>0.700000</td>\n",
       "      <td>0.000000</td>\n",
       "      <td>0.0</td>\n",
       "      <td>2</td>\n",
       "      <td>3</td>\n",
       "      <td>2</td>\n",
       "      <td>2</td>\n",
       "      <td>4</td>\n",
       "      <td>2</td>\n",
       "      <td>0</td>\n",
       "      <td>False</td>\n",
       "    </tr>\n",
       "    <tr>\n",
       "      <th>4</th>\n",
       "      <td>0</td>\n",
       "      <td>0.000000</td>\n",
       "      <td>0</td>\n",
       "      <td>0.0</td>\n",
       "      <td>0.014184</td>\n",
       "      <td>0.009809</td>\n",
       "      <td>0.100000</td>\n",
       "      <td>0.250000</td>\n",
       "      <td>0.000000</td>\n",
       "      <td>0.0</td>\n",
       "      <td>2</td>\n",
       "      <td>3</td>\n",
       "      <td>3</td>\n",
       "      <td>1</td>\n",
       "      <td>4</td>\n",
       "      <td>2</td>\n",
       "      <td>1</td>\n",
       "      <td>False</td>\n",
       "    </tr>\n",
       "    <tr>\n",
       "      <th>...</th>\n",
       "      <td>...</td>\n",
       "      <td>...</td>\n",
       "      <td>...</td>\n",
       "      <td>...</td>\n",
       "      <td>...</td>\n",
       "      <td>...</td>\n",
       "      <td>...</td>\n",
       "      <td>...</td>\n",
       "      <td>...</td>\n",
       "      <td>...</td>\n",
       "      <td>...</td>\n",
       "      <td>...</td>\n",
       "      <td>...</td>\n",
       "      <td>...</td>\n",
       "      <td>...</td>\n",
       "      <td>...</td>\n",
       "      <td>...</td>\n",
       "      <td>...</td>\n",
       "    </tr>\n",
       "    <tr>\n",
       "      <th>12325</th>\n",
       "      <td>3</td>\n",
       "      <td>0.042663</td>\n",
       "      <td>0</td>\n",
       "      <td>0.0</td>\n",
       "      <td>0.075177</td>\n",
       "      <td>0.027883</td>\n",
       "      <td>0.035714</td>\n",
       "      <td>0.145153</td>\n",
       "      <td>0.033839</td>\n",
       "      <td>0.0</td>\n",
       "      <td>1</td>\n",
       "      <td>4</td>\n",
       "      <td>6</td>\n",
       "      <td>1</td>\n",
       "      <td>1</td>\n",
       "      <td>2</td>\n",
       "      <td>1</td>\n",
       "      <td>False</td>\n",
       "    </tr>\n",
       "    <tr>\n",
       "      <th>12326</th>\n",
       "      <td>0</td>\n",
       "      <td>0.000000</td>\n",
       "      <td>0</td>\n",
       "      <td>0.0</td>\n",
       "      <td>0.007092</td>\n",
       "      <td>0.007280</td>\n",
       "      <td>0.000000</td>\n",
       "      <td>0.106667</td>\n",
       "      <td>0.000000</td>\n",
       "      <td>0.0</td>\n",
       "      <td>7</td>\n",
       "      <td>3</td>\n",
       "      <td>2</td>\n",
       "      <td>1</td>\n",
       "      <td>8</td>\n",
       "      <td>2</td>\n",
       "      <td>1</td>\n",
       "      <td>False</td>\n",
       "    </tr>\n",
       "    <tr>\n",
       "      <th>12327</th>\n",
       "      <td>0</td>\n",
       "      <td>0.000000</td>\n",
       "      <td>0</td>\n",
       "      <td>0.0</td>\n",
       "      <td>0.008511</td>\n",
       "      <td>0.002880</td>\n",
       "      <td>0.416667</td>\n",
       "      <td>0.433333</td>\n",
       "      <td>0.000000</td>\n",
       "      <td>0.0</td>\n",
       "      <td>7</td>\n",
       "      <td>3</td>\n",
       "      <td>2</td>\n",
       "      <td>1</td>\n",
       "      <td>13</td>\n",
       "      <td>2</td>\n",
       "      <td>1</td>\n",
       "      <td>False</td>\n",
       "    </tr>\n",
       "    <tr>\n",
       "      <th>12328</th>\n",
       "      <td>4</td>\n",
       "      <td>0.022067</td>\n",
       "      <td>0</td>\n",
       "      <td>0.0</td>\n",
       "      <td>0.021277</td>\n",
       "      <td>0.005408</td>\n",
       "      <td>0.000000</td>\n",
       "      <td>0.105263</td>\n",
       "      <td>0.000000</td>\n",
       "      <td>0.0</td>\n",
       "      <td>7</td>\n",
       "      <td>2</td>\n",
       "      <td>2</td>\n",
       "      <td>3</td>\n",
       "      <td>11</td>\n",
       "      <td>2</td>\n",
       "      <td>0</td>\n",
       "      <td>False</td>\n",
       "    </tr>\n",
       "    <tr>\n",
       "      <th>12329</th>\n",
       "      <td>0</td>\n",
       "      <td>0.000000</td>\n",
       "      <td>0</td>\n",
       "      <td>0.0</td>\n",
       "      <td>0.004255</td>\n",
       "      <td>0.000332</td>\n",
       "      <td>0.000000</td>\n",
       "      <td>0.333333</td>\n",
       "      <td>0.000000</td>\n",
       "      <td>0.0</td>\n",
       "      <td>7</td>\n",
       "      <td>3</td>\n",
       "      <td>2</td>\n",
       "      <td>1</td>\n",
       "      <td>2</td>\n",
       "      <td>0</td>\n",
       "      <td>1</td>\n",
       "      <td>False</td>\n",
       "    </tr>\n",
       "  </tbody>\n",
       "</table>\n",
       "<p>12330 rows × 18 columns</p>\n",
       "</div>"
      ],
      "text/plain": [
       "       Administrative  Administrative_Duration  Informational  \\\n",
       "0                   0                 0.000000              0   \n",
       "1                   0                 0.000000              0   \n",
       "2                   0                 0.000000              0   \n",
       "3                   0                 0.000000              0   \n",
       "4                   0                 0.000000              0   \n",
       "...               ...                      ...            ...   \n",
       "12325               3                 0.042663              0   \n",
       "12326               0                 0.000000              0   \n",
       "12327               0                 0.000000              0   \n",
       "12328               4                 0.022067              0   \n",
       "12329               0                 0.000000              0   \n",
       "\n",
       "       Informational_Duration  ProductRelated  ProductRelated_Duration  \\\n",
       "0                         0.0        0.001418                 0.000000   \n",
       "1                         0.0        0.002837                 0.001000   \n",
       "2                         0.0        0.001418                 0.000000   \n",
       "3                         0.0        0.002837                 0.000042   \n",
       "4                         0.0        0.014184                 0.009809   \n",
       "...                       ...             ...                      ...   \n",
       "12325                     0.0        0.075177                 0.027883   \n",
       "12326                     0.0        0.007092                 0.007280   \n",
       "12327                     0.0        0.008511                 0.002880   \n",
       "12328                     0.0        0.021277                 0.005408   \n",
       "12329                     0.0        0.004255                 0.000332   \n",
       "\n",
       "       BounceRates  ExitRates  PageValues  SpecialDay  Month  \\\n",
       "0         1.000000   1.000000    0.000000         0.0      2   \n",
       "1         0.000000   0.500000    0.000000         0.0      2   \n",
       "2         1.000000   1.000000    0.000000         0.0      2   \n",
       "3         0.250000   0.700000    0.000000         0.0      2   \n",
       "4         0.100000   0.250000    0.000000         0.0      2   \n",
       "...            ...        ...         ...         ...    ...   \n",
       "12325     0.035714   0.145153    0.033839         0.0      1   \n",
       "12326     0.000000   0.106667    0.000000         0.0      7   \n",
       "12327     0.416667   0.433333    0.000000         0.0      7   \n",
       "12328     0.000000   0.105263    0.000000         0.0      7   \n",
       "12329     0.000000   0.333333    0.000000         0.0      7   \n",
       "\n",
       "       OperatingSystems  Browser  Region  TrafficType  VisitorType  Weekend  \\\n",
       "0                     1        1       1            1            2        0   \n",
       "1                     2        2       1            2            2        0   \n",
       "2                     4        1       9            3            2        0   \n",
       "3                     3        2       2            4            2        0   \n",
       "4                     3        3       1            4            2        1   \n",
       "...                 ...      ...     ...          ...          ...      ...   \n",
       "12325                 4        6       1            1            2        1   \n",
       "12326                 3        2       1            8            2        1   \n",
       "12327                 3        2       1           13            2        1   \n",
       "12328                 2        2       3           11            2        0   \n",
       "12329                 3        2       1            2            0        1   \n",
       "\n",
       "       Revenue  \n",
       "0        False  \n",
       "1        False  \n",
       "2        False  \n",
       "3        False  \n",
       "4        False  \n",
       "...        ...  \n",
       "12325    False  \n",
       "12326    False  \n",
       "12327    False  \n",
       "12328    False  \n",
       "12329    False  \n",
       "\n",
       "[12330 rows x 18 columns]"
      ]
     },
     "execution_count": 20,
     "metadata": {},
     "output_type": "execute_result"
    }
   ],
   "source": [
    "df"
   ]
  },
  {
   "cell_type": "code",
   "execution_count": 21,
   "id": "cd54f55f",
   "metadata": {
    "execution": {
     "iopub.execute_input": "2023-05-24T07:25:04.896728Z",
     "iopub.status.busy": "2023-05-24T07:25:04.896314Z",
     "iopub.status.idle": "2023-05-24T07:25:04.909930Z",
     "shell.execute_reply": "2023-05-24T07:25:04.908912Z"
    },
    "papermill": {
     "duration": 0.029602,
     "end_time": "2023-05-24T07:25:04.912470",
     "exception": false,
     "start_time": "2023-05-24T07:25:04.882868",
     "status": "completed"
    },
    "tags": []
   },
   "outputs": [],
   "source": [
    "\n",
    "# Split the data into features and target variable\n",
    "X = df.drop(['Revenue', 'Weekend', 'Informational_Duration'], axis=1)\n",
    "y_revenue = df['Revenue']\n",
    "y_weekend = df['Weekend']\n",
    "informational_duration = df['Informational_Duration']\n",
    "\n",
    "# Split the data into training and testing sets\n",
    "X_train, X_test, y_revenue_train, y_revenue_test, y_weekend_train, y_weekend_test, informational_duration_train, informational_duration_test = train_test_split(X, y_revenue, y_weekend, informational_duration, test_size=0.2, random_state=42)\n",
    "\n"
   ]
  },
  {
   "cell_type": "code",
   "execution_count": 22,
   "id": "5a3b24af",
   "metadata": {
    "execution": {
     "iopub.execute_input": "2023-05-24T07:25:04.937646Z",
     "iopub.status.busy": "2023-05-24T07:25:04.936863Z",
     "iopub.status.idle": "2023-05-24T07:25:06.494348Z",
     "shell.execute_reply": "2023-05-24T07:25:06.493007Z"
    },
    "papermill": {
     "duration": 1.573032,
     "end_time": "2023-05-24T07:25:06.497139",
     "exception": false,
     "start_time": "2023-05-24T07:25:04.924107",
     "status": "completed"
    },
    "tags": []
   },
   "outputs": [],
   "source": [
    "# Initialize and train the Random Forest model for Revenue prediction\n",
    "revenue_model = RandomForestClassifier()\n",
    "revenue_model.fit(X_train, y_revenue_train)\n",
    "\n",
    "# Predict revenue on the testing set\n",
    "revenue_predictions = revenue_model.predict(X_test)\n",
    "\n",
    "# Calculate accuracy for revenue predictions\n",
    "revenue_accuracy = accuracy_score(y_revenue_test, revenue_predictions)\n",
    "\n"
   ]
  },
  {
   "cell_type": "code",
   "execution_count": 23,
   "id": "27509984",
   "metadata": {
    "execution": {
     "iopub.execute_input": "2023-05-24T07:25:06.523261Z",
     "iopub.status.busy": "2023-05-24T07:25:06.522144Z",
     "iopub.status.idle": "2023-05-24T07:25:06.529910Z",
     "shell.execute_reply": "2023-05-24T07:25:06.528624Z"
    },
    "papermill": {
     "duration": 0.023303,
     "end_time": "2023-05-24T07:25:06.532376",
     "exception": false,
     "start_time": "2023-05-24T07:25:06.509073",
     "status": "completed"
    },
    "tags": []
   },
   "outputs": [
    {
     "data": {
      "text/plain": [
       "0.8917274939172749"
      ]
     },
     "execution_count": 23,
     "metadata": {},
     "output_type": "execute_result"
    }
   ],
   "source": [
    "revenue_accuracy"
   ]
  },
  {
   "cell_type": "code",
   "execution_count": 24,
   "id": "be1fd788",
   "metadata": {
    "execution": {
     "iopub.execute_input": "2023-05-24T07:25:06.558410Z",
     "iopub.status.busy": "2023-05-24T07:25:06.557639Z",
     "iopub.status.idle": "2023-05-24T07:25:08.718351Z",
     "shell.execute_reply": "2023-05-24T07:25:08.716993Z"
    },
    "papermill": {
     "duration": 2.176657,
     "end_time": "2023-05-24T07:25:08.720861",
     "exception": false,
     "start_time": "2023-05-24T07:25:06.544204",
     "status": "completed"
    },
    "tags": []
   },
   "outputs": [
    {
     "name": "stdout",
     "output_type": "stream",
     "text": [
      "Weekend Accuracy: 0.7627737226277372\n"
     ]
    }
   ],
   "source": [
    "# Initialize and train the Random Forest model for Weekend prediction\n",
    "weekend_model = RandomForestClassifier()\n",
    "weekend_model.fit(X_train, y_weekend_train)\n",
    "\n",
    "# Predict weekend on the testing set\n",
    "weekend_predictions = weekend_model.predict(X_test)\n",
    "\n",
    "# Calculate accuracy for weekend predictions\n",
    "weekend_accuracy = accuracy_score(y_weekend_test, weekend_predictions)\n",
    "\n",
    "# Print accuracy scores\n",
    "\n",
    "print(\"Weekend Accuracy:\", weekend_accuracy)\n",
    "\n",
    "\n"
   ]
  },
  {
   "cell_type": "code",
   "execution_count": 25,
   "id": "ddfc8516",
   "metadata": {
    "execution": {
     "iopub.execute_input": "2023-05-24T07:25:08.747036Z",
     "iopub.status.busy": "2023-05-24T07:25:08.745965Z",
     "iopub.status.idle": "2023-05-24T07:25:08.776253Z",
     "shell.execute_reply": "2023-05-24T07:25:08.774832Z"
    },
    "papermill": {
     "duration": 0.046761,
     "end_time": "2023-05-24T07:25:08.779630",
     "exception": false,
     "start_time": "2023-05-24T07:25:08.732869",
     "status": "completed"
    },
    "tags": []
   },
   "outputs": [
    {
     "data": {
      "text/html": [
       "<div>\n",
       "<style scoped>\n",
       "    .dataframe tbody tr th:only-of-type {\n",
       "        vertical-align: middle;\n",
       "    }\n",
       "\n",
       "    .dataframe tbody tr th {\n",
       "        vertical-align: top;\n",
       "    }\n",
       "\n",
       "    .dataframe thead th {\n",
       "        text-align: right;\n",
       "    }\n",
       "</style>\n",
       "<table border=\"1\" class=\"dataframe\">\n",
       "  <thead>\n",
       "    <tr style=\"text-align: right;\">\n",
       "      <th></th>\n",
       "      <th>Administrative</th>\n",
       "      <th>Administrative_Duration</th>\n",
       "      <th>Informational</th>\n",
       "      <th>Informational_Duration</th>\n",
       "      <th>ProductRelated</th>\n",
       "      <th>ProductRelated_Duration</th>\n",
       "      <th>BounceRates</th>\n",
       "      <th>ExitRates</th>\n",
       "      <th>PageValues</th>\n",
       "      <th>SpecialDay</th>\n",
       "      <th>Month</th>\n",
       "      <th>OperatingSystems</th>\n",
       "      <th>Browser</th>\n",
       "      <th>Region</th>\n",
       "      <th>TrafficType</th>\n",
       "      <th>VisitorType</th>\n",
       "      <th>Weekend</th>\n",
       "      <th>Revenue</th>\n",
       "    </tr>\n",
       "  </thead>\n",
       "  <tbody>\n",
       "    <tr>\n",
       "      <th>0</th>\n",
       "      <td>0</td>\n",
       "      <td>0.000000</td>\n",
       "      <td>0</td>\n",
       "      <td>0.0</td>\n",
       "      <td>0.001418</td>\n",
       "      <td>0.000000</td>\n",
       "      <td>1.000000</td>\n",
       "      <td>1.000000</td>\n",
       "      <td>0.000000</td>\n",
       "      <td>0.0</td>\n",
       "      <td>2</td>\n",
       "      <td>1</td>\n",
       "      <td>1</td>\n",
       "      <td>1</td>\n",
       "      <td>1</td>\n",
       "      <td>2</td>\n",
       "      <td>0</td>\n",
       "      <td>False</td>\n",
       "    </tr>\n",
       "    <tr>\n",
       "      <th>1</th>\n",
       "      <td>0</td>\n",
       "      <td>0.000000</td>\n",
       "      <td>0</td>\n",
       "      <td>0.0</td>\n",
       "      <td>0.002837</td>\n",
       "      <td>0.001000</td>\n",
       "      <td>0.000000</td>\n",
       "      <td>0.500000</td>\n",
       "      <td>0.000000</td>\n",
       "      <td>0.0</td>\n",
       "      <td>2</td>\n",
       "      <td>2</td>\n",
       "      <td>2</td>\n",
       "      <td>1</td>\n",
       "      <td>2</td>\n",
       "      <td>2</td>\n",
       "      <td>0</td>\n",
       "      <td>False</td>\n",
       "    </tr>\n",
       "    <tr>\n",
       "      <th>2</th>\n",
       "      <td>0</td>\n",
       "      <td>0.000000</td>\n",
       "      <td>0</td>\n",
       "      <td>0.0</td>\n",
       "      <td>0.001418</td>\n",
       "      <td>0.000000</td>\n",
       "      <td>1.000000</td>\n",
       "      <td>1.000000</td>\n",
       "      <td>0.000000</td>\n",
       "      <td>0.0</td>\n",
       "      <td>2</td>\n",
       "      <td>4</td>\n",
       "      <td>1</td>\n",
       "      <td>9</td>\n",
       "      <td>3</td>\n",
       "      <td>2</td>\n",
       "      <td>0</td>\n",
       "      <td>False</td>\n",
       "    </tr>\n",
       "    <tr>\n",
       "      <th>3</th>\n",
       "      <td>0</td>\n",
       "      <td>0.000000</td>\n",
       "      <td>0</td>\n",
       "      <td>0.0</td>\n",
       "      <td>0.002837</td>\n",
       "      <td>0.000042</td>\n",
       "      <td>0.250000</td>\n",
       "      <td>0.700000</td>\n",
       "      <td>0.000000</td>\n",
       "      <td>0.0</td>\n",
       "      <td>2</td>\n",
       "      <td>3</td>\n",
       "      <td>2</td>\n",
       "      <td>2</td>\n",
       "      <td>4</td>\n",
       "      <td>2</td>\n",
       "      <td>0</td>\n",
       "      <td>False</td>\n",
       "    </tr>\n",
       "    <tr>\n",
       "      <th>4</th>\n",
       "      <td>0</td>\n",
       "      <td>0.000000</td>\n",
       "      <td>0</td>\n",
       "      <td>0.0</td>\n",
       "      <td>0.014184</td>\n",
       "      <td>0.009809</td>\n",
       "      <td>0.100000</td>\n",
       "      <td>0.250000</td>\n",
       "      <td>0.000000</td>\n",
       "      <td>0.0</td>\n",
       "      <td>2</td>\n",
       "      <td>3</td>\n",
       "      <td>3</td>\n",
       "      <td>1</td>\n",
       "      <td>4</td>\n",
       "      <td>2</td>\n",
       "      <td>1</td>\n",
       "      <td>False</td>\n",
       "    </tr>\n",
       "    <tr>\n",
       "      <th>...</th>\n",
       "      <td>...</td>\n",
       "      <td>...</td>\n",
       "      <td>...</td>\n",
       "      <td>...</td>\n",
       "      <td>...</td>\n",
       "      <td>...</td>\n",
       "      <td>...</td>\n",
       "      <td>...</td>\n",
       "      <td>...</td>\n",
       "      <td>...</td>\n",
       "      <td>...</td>\n",
       "      <td>...</td>\n",
       "      <td>...</td>\n",
       "      <td>...</td>\n",
       "      <td>...</td>\n",
       "      <td>...</td>\n",
       "      <td>...</td>\n",
       "      <td>...</td>\n",
       "    </tr>\n",
       "    <tr>\n",
       "      <th>12325</th>\n",
       "      <td>3</td>\n",
       "      <td>0.042663</td>\n",
       "      <td>0</td>\n",
       "      <td>0.0</td>\n",
       "      <td>0.075177</td>\n",
       "      <td>0.027883</td>\n",
       "      <td>0.035714</td>\n",
       "      <td>0.145153</td>\n",
       "      <td>0.033839</td>\n",
       "      <td>0.0</td>\n",
       "      <td>1</td>\n",
       "      <td>4</td>\n",
       "      <td>6</td>\n",
       "      <td>1</td>\n",
       "      <td>1</td>\n",
       "      <td>2</td>\n",
       "      <td>1</td>\n",
       "      <td>False</td>\n",
       "    </tr>\n",
       "    <tr>\n",
       "      <th>12326</th>\n",
       "      <td>0</td>\n",
       "      <td>0.000000</td>\n",
       "      <td>0</td>\n",
       "      <td>0.0</td>\n",
       "      <td>0.007092</td>\n",
       "      <td>0.007280</td>\n",
       "      <td>0.000000</td>\n",
       "      <td>0.106667</td>\n",
       "      <td>0.000000</td>\n",
       "      <td>0.0</td>\n",
       "      <td>7</td>\n",
       "      <td>3</td>\n",
       "      <td>2</td>\n",
       "      <td>1</td>\n",
       "      <td>8</td>\n",
       "      <td>2</td>\n",
       "      <td>1</td>\n",
       "      <td>False</td>\n",
       "    </tr>\n",
       "    <tr>\n",
       "      <th>12327</th>\n",
       "      <td>0</td>\n",
       "      <td>0.000000</td>\n",
       "      <td>0</td>\n",
       "      <td>0.0</td>\n",
       "      <td>0.008511</td>\n",
       "      <td>0.002880</td>\n",
       "      <td>0.416667</td>\n",
       "      <td>0.433333</td>\n",
       "      <td>0.000000</td>\n",
       "      <td>0.0</td>\n",
       "      <td>7</td>\n",
       "      <td>3</td>\n",
       "      <td>2</td>\n",
       "      <td>1</td>\n",
       "      <td>13</td>\n",
       "      <td>2</td>\n",
       "      <td>1</td>\n",
       "      <td>False</td>\n",
       "    </tr>\n",
       "    <tr>\n",
       "      <th>12328</th>\n",
       "      <td>4</td>\n",
       "      <td>0.022067</td>\n",
       "      <td>0</td>\n",
       "      <td>0.0</td>\n",
       "      <td>0.021277</td>\n",
       "      <td>0.005408</td>\n",
       "      <td>0.000000</td>\n",
       "      <td>0.105263</td>\n",
       "      <td>0.000000</td>\n",
       "      <td>0.0</td>\n",
       "      <td>7</td>\n",
       "      <td>2</td>\n",
       "      <td>2</td>\n",
       "      <td>3</td>\n",
       "      <td>11</td>\n",
       "      <td>2</td>\n",
       "      <td>0</td>\n",
       "      <td>False</td>\n",
       "    </tr>\n",
       "    <tr>\n",
       "      <th>12329</th>\n",
       "      <td>0</td>\n",
       "      <td>0.000000</td>\n",
       "      <td>0</td>\n",
       "      <td>0.0</td>\n",
       "      <td>0.004255</td>\n",
       "      <td>0.000332</td>\n",
       "      <td>0.000000</td>\n",
       "      <td>0.333333</td>\n",
       "      <td>0.000000</td>\n",
       "      <td>0.0</td>\n",
       "      <td>7</td>\n",
       "      <td>3</td>\n",
       "      <td>2</td>\n",
       "      <td>1</td>\n",
       "      <td>2</td>\n",
       "      <td>0</td>\n",
       "      <td>1</td>\n",
       "      <td>False</td>\n",
       "    </tr>\n",
       "  </tbody>\n",
       "</table>\n",
       "<p>12330 rows × 18 columns</p>\n",
       "</div>"
      ],
      "text/plain": [
       "       Administrative  Administrative_Duration  Informational  \\\n",
       "0                   0                 0.000000              0   \n",
       "1                   0                 0.000000              0   \n",
       "2                   0                 0.000000              0   \n",
       "3                   0                 0.000000              0   \n",
       "4                   0                 0.000000              0   \n",
       "...               ...                      ...            ...   \n",
       "12325               3                 0.042663              0   \n",
       "12326               0                 0.000000              0   \n",
       "12327               0                 0.000000              0   \n",
       "12328               4                 0.022067              0   \n",
       "12329               0                 0.000000              0   \n",
       "\n",
       "       Informational_Duration  ProductRelated  ProductRelated_Duration  \\\n",
       "0                         0.0        0.001418                 0.000000   \n",
       "1                         0.0        0.002837                 0.001000   \n",
       "2                         0.0        0.001418                 0.000000   \n",
       "3                         0.0        0.002837                 0.000042   \n",
       "4                         0.0        0.014184                 0.009809   \n",
       "...                       ...             ...                      ...   \n",
       "12325                     0.0        0.075177                 0.027883   \n",
       "12326                     0.0        0.007092                 0.007280   \n",
       "12327                     0.0        0.008511                 0.002880   \n",
       "12328                     0.0        0.021277                 0.005408   \n",
       "12329                     0.0        0.004255                 0.000332   \n",
       "\n",
       "       BounceRates  ExitRates  PageValues  SpecialDay  Month  \\\n",
       "0         1.000000   1.000000    0.000000         0.0      2   \n",
       "1         0.000000   0.500000    0.000000         0.0      2   \n",
       "2         1.000000   1.000000    0.000000         0.0      2   \n",
       "3         0.250000   0.700000    0.000000         0.0      2   \n",
       "4         0.100000   0.250000    0.000000         0.0      2   \n",
       "...            ...        ...         ...         ...    ...   \n",
       "12325     0.035714   0.145153    0.033839         0.0      1   \n",
       "12326     0.000000   0.106667    0.000000         0.0      7   \n",
       "12327     0.416667   0.433333    0.000000         0.0      7   \n",
       "12328     0.000000   0.105263    0.000000         0.0      7   \n",
       "12329     0.000000   0.333333    0.000000         0.0      7   \n",
       "\n",
       "       OperatingSystems  Browser  Region  TrafficType  VisitorType  Weekend  \\\n",
       "0                     1        1       1            1            2        0   \n",
       "1                     2        2       1            2            2        0   \n",
       "2                     4        1       9            3            2        0   \n",
       "3                     3        2       2            4            2        0   \n",
       "4                     3        3       1            4            2        1   \n",
       "...                 ...      ...     ...          ...          ...      ...   \n",
       "12325                 4        6       1            1            2        1   \n",
       "12326                 3        2       1            8            2        1   \n",
       "12327                 3        2       1           13            2        1   \n",
       "12328                 2        2       3           11            2        0   \n",
       "12329                 3        2       1            2            0        1   \n",
       "\n",
       "       Revenue  \n",
       "0        False  \n",
       "1        False  \n",
       "2        False  \n",
       "3        False  \n",
       "4        False  \n",
       "...        ...  \n",
       "12325    False  \n",
       "12326    False  \n",
       "12327    False  \n",
       "12328    False  \n",
       "12329    False  \n",
       "\n",
       "[12330 rows x 18 columns]"
      ]
     },
     "execution_count": 25,
     "metadata": {},
     "output_type": "execute_result"
    }
   ],
   "source": [
    "df"
   ]
  },
  {
   "cell_type": "code",
   "execution_count": 26,
   "id": "f1a3f048",
   "metadata": {
    "execution": {
     "iopub.execute_input": "2023-05-24T07:25:08.806983Z",
     "iopub.status.busy": "2023-05-24T07:25:08.806546Z",
     "iopub.status.idle": "2023-05-24T07:25:08.816791Z",
     "shell.execute_reply": "2023-05-24T07:25:08.815419Z"
    },
    "papermill": {
     "duration": 0.026814,
     "end_time": "2023-05-24T07:25:08.819575",
     "exception": false,
     "start_time": "2023-05-24T07:25:08.792761",
     "status": "completed"
    },
    "tags": []
   },
   "outputs": [
    {
     "data": {
      "text/plain": [
       "8916     0.000000\n",
       "772      0.092395\n",
       "12250    0.000000\n",
       "7793     0.000000\n",
       "6601     0.287835\n",
       "           ...   \n",
       "295      0.000000\n",
       "3694     0.000000\n",
       "4974     0.009022\n",
       "10383    0.003726\n",
       "2611     0.000000\n",
       "Name: Informational_Duration, Length: 2466, dtype: float64"
      ]
     },
     "execution_count": 26,
     "metadata": {},
     "output_type": "execute_result"
    }
   ],
   "source": [
    "informational_duration_test"
   ]
  },
  {
   "cell_type": "code",
   "execution_count": 27,
   "id": "c111cd55",
   "metadata": {
    "execution": {
     "iopub.execute_input": "2023-05-24T07:25:08.847577Z",
     "iopub.status.busy": "2023-05-24T07:25:08.846698Z",
     "iopub.status.idle": "2023-05-24T07:25:11.191458Z",
     "shell.execute_reply": "2023-05-24T07:25:11.190493Z"
    },
    "papermill": {
     "duration": 2.361945,
     "end_time": "2023-05-24T07:25:11.194167",
     "exception": false,
     "start_time": "2023-05-24T07:25:08.832222",
     "status": "completed"
    },
    "tags": []
   },
   "outputs": [
    {
     "data": {
      "text/html": [
       "<style>#sk-container-id-1 {color: black;background-color: white;}#sk-container-id-1 pre{padding: 0;}#sk-container-id-1 div.sk-toggleable {background-color: white;}#sk-container-id-1 label.sk-toggleable__label {cursor: pointer;display: block;width: 100%;margin-bottom: 0;padding: 0.3em;box-sizing: border-box;text-align: center;}#sk-container-id-1 label.sk-toggleable__label-arrow:before {content: \"▸\";float: left;margin-right: 0.25em;color: #696969;}#sk-container-id-1 label.sk-toggleable__label-arrow:hover:before {color: black;}#sk-container-id-1 div.sk-estimator:hover label.sk-toggleable__label-arrow:before {color: black;}#sk-container-id-1 div.sk-toggleable__content {max-height: 0;max-width: 0;overflow: hidden;text-align: left;background-color: #f0f8ff;}#sk-container-id-1 div.sk-toggleable__content pre {margin: 0.2em;color: black;border-radius: 0.25em;background-color: #f0f8ff;}#sk-container-id-1 input.sk-toggleable__control:checked~div.sk-toggleable__content {max-height: 200px;max-width: 100%;overflow: auto;}#sk-container-id-1 input.sk-toggleable__control:checked~label.sk-toggleable__label-arrow:before {content: \"▾\";}#sk-container-id-1 div.sk-estimator input.sk-toggleable__control:checked~label.sk-toggleable__label {background-color: #d4ebff;}#sk-container-id-1 div.sk-label input.sk-toggleable__control:checked~label.sk-toggleable__label {background-color: #d4ebff;}#sk-container-id-1 input.sk-hidden--visually {border: 0;clip: rect(1px 1px 1px 1px);clip: rect(1px, 1px, 1px, 1px);height: 1px;margin: -1px;overflow: hidden;padding: 0;position: absolute;width: 1px;}#sk-container-id-1 div.sk-estimator {font-family: monospace;background-color: #f0f8ff;border: 1px dotted black;border-radius: 0.25em;box-sizing: border-box;margin-bottom: 0.5em;}#sk-container-id-1 div.sk-estimator:hover {background-color: #d4ebff;}#sk-container-id-1 div.sk-parallel-item::after {content: \"\";width: 100%;border-bottom: 1px solid gray;flex-grow: 1;}#sk-container-id-1 div.sk-label:hover label.sk-toggleable__label {background-color: #d4ebff;}#sk-container-id-1 div.sk-serial::before {content: \"\";position: absolute;border-left: 1px solid gray;box-sizing: border-box;top: 0;bottom: 0;left: 50%;z-index: 0;}#sk-container-id-1 div.sk-serial {display: flex;flex-direction: column;align-items: center;background-color: white;padding-right: 0.2em;padding-left: 0.2em;position: relative;}#sk-container-id-1 div.sk-item {position: relative;z-index: 1;}#sk-container-id-1 div.sk-parallel {display: flex;align-items: stretch;justify-content: center;background-color: white;position: relative;}#sk-container-id-1 div.sk-item::before, #sk-container-id-1 div.sk-parallel-item::before {content: \"\";position: absolute;border-left: 1px solid gray;box-sizing: border-box;top: 0;bottom: 0;left: 50%;z-index: -1;}#sk-container-id-1 div.sk-parallel-item {display: flex;flex-direction: column;z-index: 1;position: relative;background-color: white;}#sk-container-id-1 div.sk-parallel-item:first-child::after {align-self: flex-end;width: 50%;}#sk-container-id-1 div.sk-parallel-item:last-child::after {align-self: flex-start;width: 50%;}#sk-container-id-1 div.sk-parallel-item:only-child::after {width: 0;}#sk-container-id-1 div.sk-dashed-wrapped {border: 1px dashed gray;margin: 0 0.4em 0.5em 0.4em;box-sizing: border-box;padding-bottom: 0.4em;background-color: white;}#sk-container-id-1 div.sk-label label {font-family: monospace;font-weight: bold;display: inline-block;line-height: 1.2em;}#sk-container-id-1 div.sk-label-container {text-align: center;}#sk-container-id-1 div.sk-container {/* jupyter's `normalize.less` sets `[hidden] { display: none; }` but bootstrap.min.css set `[hidden] { display: none !important; }` so we also need the `!important` here to be able to override the default hidden behavior on the sphinx rendered scikit-learn.org. See: https://github.com/scikit-learn/scikit-learn/issues/21755 */display: inline-block !important;position: relative;}#sk-container-id-1 div.sk-text-repr-fallback {display: none;}</style><div id=\"sk-container-id-1\" class=\"sk-top-container\"><div class=\"sk-text-repr-fallback\"><pre>RandomForestRegressor()</pre><b>In a Jupyter environment, please rerun this cell to show the HTML representation or trust the notebook. <br />On GitHub, the HTML representation is unable to render, please try loading this page with nbviewer.org.</b></div><div class=\"sk-container\" hidden><div class=\"sk-item\"><div class=\"sk-estimator sk-toggleable\"><input class=\"sk-toggleable__control sk-hidden--visually\" id=\"sk-estimator-id-1\" type=\"checkbox\" checked><label for=\"sk-estimator-id-1\" class=\"sk-toggleable__label sk-toggleable__label-arrow\">RandomForestRegressor</label><div class=\"sk-toggleable__content\"><pre>RandomForestRegressor()</pre></div></div></div></div></div>"
      ],
      "text/plain": [
       "RandomForestRegressor()"
      ]
     },
     "execution_count": 27,
     "metadata": {},
     "output_type": "execute_result"
    }
   ],
   "source": [
    "\n",
    "# Use the trained model to predict Informational_Duration\n",
    "from sklearn.ensemble import RandomForestRegressor\n",
    "informational_duration_model = RandomForestRegressor()\n",
    "informational_duration_model.fit(X_train, informational_duration_train)\n",
    "\n"
   ]
  },
  {
   "cell_type": "code",
   "execution_count": 28,
   "id": "3186250e",
   "metadata": {
    "execution": {
     "iopub.execute_input": "2023-05-24T07:25:11.222714Z",
     "iopub.status.busy": "2023-05-24T07:25:11.222015Z",
     "iopub.status.idle": "2023-05-24T07:25:11.259318Z",
     "shell.execute_reply": "2023-05-24T07:25:11.258134Z"
    },
    "papermill": {
     "duration": 0.054672,
     "end_time": "2023-05-24T07:25:11.262039",
     "exception": false,
     "start_time": "2023-05-24T07:25:11.207367",
     "status": "completed"
    },
    "tags": []
   },
   "outputs": [],
   "source": [
    "\n",
    "# Predict weekend on the testing set\n",
    "informational_duration_prediction = informational_duration_model.predict(X_test)\n"
   ]
  },
  {
   "cell_type": "code",
   "execution_count": 29,
   "id": "e40c1850",
   "metadata": {
    "execution": {
     "iopub.execute_input": "2023-05-24T07:25:11.290035Z",
     "iopub.status.busy": "2023-05-24T07:25:11.289359Z",
     "iopub.status.idle": "2023-05-24T07:25:11.297694Z",
     "shell.execute_reply": "2023-05-24T07:25:11.296861Z"
    },
    "papermill": {
     "duration": 0.024906,
     "end_time": "2023-05-24T07:25:11.299965",
     "exception": false,
     "start_time": "2023-05-24T07:25:11.275059",
     "status": "completed"
    },
    "tags": []
   },
   "outputs": [
    {
     "data": {
      "text/plain": [
       "0.012107677393186383"
      ]
     },
     "execution_count": 29,
     "metadata": {},
     "output_type": "execute_result"
    }
   ],
   "source": [
    "\n",
    "# Calculate MAE for weekend predictions\n",
    "from sklearn.metrics import mean_absolute_error\n",
    "\n",
    "mean_absolute_error(informational_duration_test, informational_duration_prediction)"
   ]
  },
  {
   "cell_type": "code",
   "execution_count": null,
   "id": "30b102ca",
   "metadata": {
    "papermill": {
     "duration": 0.013023,
     "end_time": "2023-05-24T07:25:11.326543",
     "exception": false,
     "start_time": "2023-05-24T07:25:11.313520",
     "status": "completed"
    },
    "tags": []
   },
   "outputs": [],
   "source": []
  }
 ],
 "metadata": {
  "kernelspec": {
   "display_name": "Python 3",
   "language": "python",
   "name": "python3"
  },
  "language_info": {
   "codemirror_mode": {
    "name": "ipython",
    "version": 3
   },
   "file_extension": ".py",
   "mimetype": "text/x-python",
   "name": "python",
   "nbconvert_exporter": "python",
   "pygments_lexer": "ipython3",
   "version": "3.10.10"
  },
  "papermill": {
   "default_parameters": {},
   "duration": 23.34696,
   "end_time": "2023-05-24T07:25:12.365004",
   "environment_variables": {},
   "exception": null,
   "input_path": "__notebook__.ipynb",
   "output_path": "__notebook__.ipynb",
   "parameters": {},
   "start_time": "2023-05-24T07:24:49.018044",
   "version": "2.4.0"
  }
 },
 "nbformat": 4,
 "nbformat_minor": 5
}
