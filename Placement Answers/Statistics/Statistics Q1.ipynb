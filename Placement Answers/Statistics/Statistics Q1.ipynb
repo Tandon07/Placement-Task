{
 "cells": [
  {
   "cell_type": "markdown",
   "id": "dc6323ac",
   "metadata": {},
   "source": [
    "Q1 A university wants to understand the relationship between the SAT scores of its\n",
    "applicants and their college GPA. They collect data on 500 students, including their SAT\n",
    "scores (out of 1600) and their college GPA (on a 4.0 scale). They find that the correlation\n",
    "coefficient between SAT scores and college GPA is 0.7. What does this correlation\n",
    "coefficient indicate about the relationship between SAT scores and college GPA?"
   ]
  },
  {
   "cell_type": "markdown",
   "id": "3aca31f0",
   "metadata": {},
   "source": [
    "Ans. \n",
    "\n",
    "A correlation coefficient of 0.7 indicates a strong positive relationship between SAT scores and college GPA in this context."
   ]
  },
  {
   "cell_type": "code",
   "execution_count": null,
   "id": "8f41c376",
   "metadata": {},
   "outputs": [],
   "source": []
  }
 ],
 "metadata": {
  "kernelspec": {
   "display_name": "Python 3 (ipykernel)",
   "language": "python",
   "name": "python3"
  },
  "language_info": {
   "codemirror_mode": {
    "name": "ipython",
    "version": 3
   },
   "file_extension": ".py",
   "mimetype": "text/x-python",
   "name": "python",
   "nbconvert_exporter": "python",
   "pygments_lexer": "ipython3",
   "version": "3.9.12"
  }
 },
 "nbformat": 4,
 "nbformat_minor": 5
}
