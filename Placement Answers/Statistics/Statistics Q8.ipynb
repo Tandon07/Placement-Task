{
 "cells": [
  {
   "cell_type": "code",
   "execution_count": 1,
   "id": "aa19a740",
   "metadata": {},
   "outputs": [
    {
     "name": "stdout",
     "output_type": "stream",
     "text": [
      "Test Statistic: 0.0\n",
      "p-value: 0.001953125\n",
      "The therapy had a significant effect on anxiety levels.\n"
     ]
    }
   ],
   "source": [
    "import numpy as np\n",
    "from scipy.stats import wilcoxon\n",
    "\n",
    "before_scores = [10, 8, 12, 15, 6, 9, 11, 7, 14, 10]\n",
    "\n",
    "after_scores = [7, 6, 10, 12, 5, 8, 9, 6, 12, 8]\n",
    "\n",
    "# differences\n",
    "differences = np.array(after_scores) - np.array(before_scores)\n",
    "\n",
    "# for Wilcoxon signed-rank test\n",
    "statistic, p_value = wilcoxon(differences)\n",
    "\n",
    "# define the significance level\n",
    "alpha = 0.05\n",
    "\n",
    "print(\"Test Statistic:\", statistic)\n",
    "print(\"p-value:\", p_value)\n",
    "\n",
    "if p_value < alpha:\n",
    "    print(\"The therapy had a significant effect on anxiety levels.\")\n",
    "else:\n",
    "    print(\"There is no significant effect of the therapy on anxiety levels.\")\n"
   ]
  },
  {
   "cell_type": "code",
   "execution_count": null,
   "id": "147b543f",
   "metadata": {},
   "outputs": [],
   "source": []
  }
 ],
 "metadata": {
  "kernelspec": {
   "display_name": "Python 3 (ipykernel)",
   "language": "python",
   "name": "python3"
  },
  "language_info": {
   "codemirror_mode": {
    "name": "ipython",
    "version": 3
   },
   "file_extension": ".py",
   "mimetype": "text/x-python",
   "name": "python",
   "nbconvert_exporter": "python",
   "pygments_lexer": "ipython3",
   "version": "3.9.12"
  }
 },
 "nbformat": 4,
 "nbformat_minor": 5
}
