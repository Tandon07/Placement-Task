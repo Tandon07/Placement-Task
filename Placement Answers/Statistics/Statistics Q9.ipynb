{
 "cells": [
  {
   "cell_type": "code",
   "execution_count": 2,
   "id": "c182568d",
   "metadata": {},
   "outputs": [
    {
     "name": "stdout",
     "output_type": "stream",
     "text": [
      "Test Statistic: 0.3236947791164659\n",
      "p-value: 0.7295954253321559\n",
      "The mean scores of the students are the same.\n"
     ]
    }
   ],
   "source": [
    "import numpy as np\n",
    "from scipy.stats import f_oneway\n",
    "\n",
    "\n",
    "exam1 = [85, 70, 90, 75, 95]\n",
    "exam2 = [90, 80, 85, 70, 92]\n",
    "final_exam = [92, 85, 88, 75, 96]\n",
    "\n",
    "# using one-way ANOVA test\n",
    "statistic, p_value = f_oneway(exam1, exam2, final_exam)\n",
    "\n",
    "\n",
    "alpha = 0.05\n",
    "\n",
    "print(\"Test Statistic:\", statistic)\n",
    "print(\"p-value:\", p_value)\n",
    "\n",
    "if p_value < alpha:\n",
    "    print(\"The mean scores of the students are not the same.\")\n",
    "    # Find the student with the highest score\n",
    "    scores = np.concatenate((exam1, exam2, final_exam))\n",
    "    highest_score = max(scores)\n",
    "    highest_score_index = np.argmax(scores)\n",
    "    student_names = [\"Karan\", \"Deepa\", \"Karthik\", \"Chandan\", \"Jeevan\"]\n",
    "    highest_score_student = student_names[highest_score_index]\n",
    "    print(\"The student with the highest score is:\", highest_score_student)\n",
    "else:\n",
    "    print(\"The mean scores of the students are the same.\")"
   ]
  },
  {
   "cell_type": "code",
   "execution_count": null,
   "id": "0d5a95f2",
   "metadata": {},
   "outputs": [],
   "source": []
  }
 ],
 "metadata": {
  "kernelspec": {
   "display_name": "Python 3 (ipykernel)",
   "language": "python",
   "name": "python3"
  },
  "language_info": {
   "codemirror_mode": {
    "name": "ipython",
    "version": 3
   },
   "file_extension": ".py",
   "mimetype": "text/x-python",
   "name": "python",
   "nbconvert_exporter": "python",
   "pygments_lexer": "ipython3",
   "version": "3.9.12"
  }
 },
 "nbformat": 4,
 "nbformat_minor": 5
}
