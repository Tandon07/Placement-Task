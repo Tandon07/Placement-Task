{
 "cells": [
  {
   "cell_type": "markdown",
   "id": "4088a032",
   "metadata": {},
   "source": [
    "Q3 Consider the ‘Blood Pressure Before’ and ‘Blood Pressure After’ columns from the\n",
    "data and calculate the following\n",
    "https://drive.google.com/file/d/1mCjtYHiX--mMUjicuaP2gH3k-SnFxt8Y/view?usp=share_\n",
    "a. Measure the dispersion in both and interpret the results.\n",
    "b. Calculate mean and 5% confidence interval and plot it in a graph\n",
    "c. Calculate the Mean absolute deviation and Standard deviation and interpret\n",
    "the results.\n",
    "d. Calculate the correlation coefficient and check the significance of it at 1% level\n",
    "of significance."
   ]
  },
  {
   "cell_type": "code",
   "execution_count": null,
   "id": "70148e07",
   "metadata": {},
   "outputs": [],
   "source": []
  },
  {
   "cell_type": "markdown",
   "id": "7592d204",
   "metadata": {},
   "source": [
    "a. Measure the dispersion in both and interpret the results."
   ]
  },
  {
   "cell_type": "code",
   "execution_count": 20,
   "id": "5a8ad525",
   "metadata": {},
   "outputs": [],
   "source": [
    "import pandas as pd\n",
    "\n",
    "df=pd.read_csv(r'C:\\Users\\tando\\Downloads\\data.csv')\n",
    "data_before=df[' Blood Pressure Before (mmHg)']\n",
    "data_after=df[' Blood Pressure After (mmHg)']"
   ]
  },
  {
   "cell_type": "code",
   "execution_count": 18,
   "id": "aec98301",
   "metadata": {},
   "outputs": [
    {
     "data": {
      "text/plain": [
       "Index(['Patient ID', ' Blood Pressure Before (mmHg)',\n",
       "       ' Blood Pressure After (mmHg)'],\n",
       "      dtype='object')"
      ]
     },
     "execution_count": 18,
     "metadata": {},
     "output_type": "execute_result"
    }
   ],
   "source": [
    "df.columns"
   ]
  },
  {
   "cell_type": "code",
   "execution_count": 16,
   "id": "c41d28ba",
   "metadata": {},
   "outputs": [
    {
     "data": {
      "text/html": [
       "<div>\n",
       "<style scoped>\n",
       "    .dataframe tbody tr th:only-of-type {\n",
       "        vertical-align: middle;\n",
       "    }\n",
       "\n",
       "    .dataframe tbody tr th {\n",
       "        vertical-align: top;\n",
       "    }\n",
       "\n",
       "    .dataframe thead th {\n",
       "        text-align: right;\n",
       "    }\n",
       "</style>\n",
       "<table border=\"1\" class=\"dataframe\">\n",
       "  <thead>\n",
       "    <tr style=\"text-align: right;\">\n",
       "      <th></th>\n",
       "      <th>Patient ID</th>\n",
       "      <th>Blood Pressure Before (mmHg)</th>\n",
       "      <th>Blood Pressure After (mmHg)</th>\n",
       "    </tr>\n",
       "  </thead>\n",
       "  <tbody>\n",
       "    <tr>\n",
       "      <th>0</th>\n",
       "      <td>1</td>\n",
       "      <td>130</td>\n",
       "      <td>120</td>\n",
       "    </tr>\n",
       "    <tr>\n",
       "      <th>1</th>\n",
       "      <td>2</td>\n",
       "      <td>142</td>\n",
       "      <td>135</td>\n",
       "    </tr>\n",
       "    <tr>\n",
       "      <th>2</th>\n",
       "      <td>3</td>\n",
       "      <td>120</td>\n",
       "      <td>118</td>\n",
       "    </tr>\n",
       "    <tr>\n",
       "      <th>3</th>\n",
       "      <td>4</td>\n",
       "      <td>135</td>\n",
       "      <td>127</td>\n",
       "    </tr>\n",
       "    <tr>\n",
       "      <th>4</th>\n",
       "      <td>5</td>\n",
       "      <td>148</td>\n",
       "      <td>140</td>\n",
       "    </tr>\n",
       "    <tr>\n",
       "      <th>...</th>\n",
       "      <td>...</td>\n",
       "      <td>...</td>\n",
       "      <td>...</td>\n",
       "    </tr>\n",
       "    <tr>\n",
       "      <th>95</th>\n",
       "      <td>96</td>\n",
       "      <td>136</td>\n",
       "      <td>129</td>\n",
       "    </tr>\n",
       "    <tr>\n",
       "      <th>96</th>\n",
       "      <td>97</td>\n",
       "      <td>143</td>\n",
       "      <td>137</td>\n",
       "    </tr>\n",
       "    <tr>\n",
       "      <th>97</th>\n",
       "      <td>98</td>\n",
       "      <td>127</td>\n",
       "      <td>123</td>\n",
       "    </tr>\n",
       "    <tr>\n",
       "      <th>98</th>\n",
       "      <td>99</td>\n",
       "      <td>139</td>\n",
       "      <td>135</td>\n",
       "    </tr>\n",
       "    <tr>\n",
       "      <th>99</th>\n",
       "      <td>100</td>\n",
       "      <td>135</td>\n",
       "      <td>130</td>\n",
       "    </tr>\n",
       "  </tbody>\n",
       "</table>\n",
       "<p>100 rows × 3 columns</p>\n",
       "</div>"
      ],
      "text/plain": [
       "    Patient ID   Blood Pressure Before (mmHg)   Blood Pressure After (mmHg)\n",
       "0            1                            130                           120\n",
       "1            2                            142                           135\n",
       "2            3                            120                           118\n",
       "3            4                            135                           127\n",
       "4            5                            148                           140\n",
       "..         ...                            ...                           ...\n",
       "95          96                            136                           129\n",
       "96          97                            143                           137\n",
       "97          98                            127                           123\n",
       "98          99                            139                           135\n",
       "99         100                            135                           130\n",
       "\n",
       "[100 rows x 3 columns]"
      ]
     },
     "execution_count": 16,
     "metadata": {},
     "output_type": "execute_result"
    }
   ],
   "source": [
    "df"
   ]
  },
  {
   "cell_type": "code",
   "execution_count": 5,
   "id": "01f38ba4",
   "metadata": {},
   "outputs": [],
   "source": []
  },
  {
   "cell_type": "code",
   "execution_count": 25,
   "id": "4ee22b54",
   "metadata": {},
   "outputs": [],
   "source": [
    "\n",
    "before_range = np.ptp(data_before)  # Range\n",
    "before_variance = np.var(data_before)  # Variance\n",
    "before_std_dev = np.std(data_before)  # Standard Deviation\n",
    "\n",
    "\n",
    "after_range = np.ptp(data_after)  # Range\n",
    "after_variance = np.var(data_after)  # Variance\n",
    "after_std_dev = np.std(data_after)  # Standard Deviation"
   ]
  },
  {
   "cell_type": "code",
   "execution_count": 26,
   "id": "ba345e81",
   "metadata": {},
   "outputs": [
    {
     "name": "stdout",
     "output_type": "stream",
     "text": [
      "Dispersion in Blood Pressure Before:\n",
      "Range: 28\n",
      "Variance: 43.10189999999998\n",
      "Standard Deviation: 6.5652037287505385\n",
      "\n",
      "Dispersion in Blood Pressure After:\n",
      "Range: 23\n",
      "Variance: 46.97040000000002\n",
      "Standard Deviation: 6.853495458523338\n"
     ]
    }
   ],
   "source": [
    "\n",
    "print(\"Dispersion in Blood Pressure Before:\")\n",
    "print(\"Range:\", before_range)\n",
    "print(\"Variance:\", before_variance)\n",
    "print(\"Standard Deviation:\", before_std_dev)\n",
    "print()\n",
    "\n",
    "print(\"Dispersion in Blood Pressure After:\")\n",
    "print(\"Range:\", after_range)\n",
    "print(\"Variance:\", after_variance)\n",
    "print(\"Standard Deviation:\", after_std_dev)\n"
   ]
  },
  {
   "cell_type": "code",
   "execution_count": null,
   "id": "1dde79e0",
   "metadata": {},
   "outputs": [],
   "source": []
  },
  {
   "cell_type": "markdown",
   "id": "798444cb",
   "metadata": {},
   "source": [
    "b. Calculate mean and 5% confidence interval and plot it in a graph"
   ]
  },
  {
   "cell_type": "code",
   "execution_count": 27,
   "id": "50ed2588",
   "metadata": {},
   "outputs": [],
   "source": [
    "import matplotlib.pyplot as plt\n",
    "import numpy as np\n",
    "\n",
    "# Calculate mean\n",
    "mean_before = np.mean(data_before)\n",
    "mean_after = np.mean(data_after)\n",
    "\n",
    "# Calculate standard error\n",
    "std_dev_before = np.std(data_before)\n",
    "std_dev_after = np.std(data_after)\n",
    "std_error_before = std_dev_before / np.sqrt(len(data_before))\n",
    "std_error_after = std_dev_after / np.sqrt(len(data_after))\n",
    "\n",
    "# Calculate margin of error (for 5% confidence interval, critical value is 1.96)\n",
    "margin_of_error_before = 1.96 * std_error_before\n",
    "margin_of_error_after = 1.96 * std_error_after\n",
    "\n",
    "# Calculate confidence interval\n",
    "confidence_interval_before = [mean_before - margin_of_error_before, mean_before + margin_of_error_before]\n",
    "confidence_interval_after = [mean_after - margin_of_error_after, mean_after + margin_of_error_after]\n",
    "\n"
   ]
  },
  {
   "cell_type": "code",
   "execution_count": 28,
   "id": "b6ed848c",
   "metadata": {},
   "outputs": [
    {
     "data": {
      "image/png": "[encoded data removed]",
      "text/plain": [
       "<Figure size 640x480 with 1 Axes>"
      ]
     },
     "metadata": {},
     "output_type": "display_data"
    }
   ],
   "source": [
    "# Plot the results\n",
    "labels = ['Blood Pressure Before', 'Blood Pressure After']\n",
    "means = [mean_before, mean_after]\n",
    "confidence_intervals = [confidence_interval_before, confidence_interval_after]\n",
    "\n",
    "plt.bar(labels, means, yerr=margin_of_error_before, capsize=10)\n",
    "plt.ylabel('Mean Blood Pressure (mmHg)')\n",
    "plt.title('Mean Blood Pressure with 5% Confidence Interval')\n",
    "\n",
    "# Plot confidence intervals\n",
    "plt.plot([0.4, 0.4], confidence_interval_before, 'r', linewidth=2)\n",
    "plt.plot([1.6, 1.6], confidence_interval_after, 'r', linewidth=2)\n",
    "\n",
    "plt.show()"
   ]
  },
  {
   "cell_type": "code",
   "execution_count": null,
   "id": "d1644438",
   "metadata": {},
   "outputs": [],
   "source": []
  },
  {
   "cell_type": "markdown",
   "id": "15c7ea7a",
   "metadata": {},
   "source": [
    " c. Calculate the Mean absolute deviation and Standard deviation and interpret\n",
    "the results."
   ]
  },
  {
   "cell_type": "code",
   "execution_count": 21,
   "id": "434727b4",
   "metadata": {},
   "outputs": [],
   "source": [
    "# Calculate the Mean Absolute Deviation (MAD)\n",
    "mean_before = np.mean(data_before)\n",
    "mean_after = np.mean(data_after)\n",
    "mad_before = np.mean(np.abs(data_before - mean_before))\n",
    "mad_after = np.mean(np.abs(data_after - mean_after))\n",
    "\n",
    "# Calculate the Standard Deviation (SD)\n",
    "sd_before = np.std(data_before)\n",
    "sd_after = np.std(data_after)\n",
    "\n"
   ]
  },
  {
   "cell_type": "code",
   "execution_count": 22,
   "id": "b23b7189",
   "metadata": {},
   "outputs": [
    {
     "name": "stdout",
     "output_type": "stream",
     "text": [
      "Blood Pressure Before:\n",
      "Mean Absolute Deviation (MAD): 5.7118\n",
      "Standard Deviation (SD): 6.5652037287505385\n",
      "\n",
      "Blood Pressure After:\n",
      "Mean Absolute Deviation (MAD): 5.9\n",
      "Standard Deviation (SD): 6.853495458523338\n"
     ]
    }
   ],
   "source": [
    "\n",
    "print(\"Blood Pressure Before:\")\n",
    "print(\"Mean Absolute Deviation (MAD):\", mad_before)\n",
    "print(\"Standard Deviation (SD):\", sd_before)\n",
    "print()\n",
    "print(\"Blood Pressure After:\")\n",
    "print(\"Mean Absolute Deviation (MAD):\", mad_after)\n",
    "print(\"Standard Deviation (SD):\", sd_after)"
   ]
  },
  {
   "cell_type": "code",
   "execution_count": null,
   "id": "d9ef0ce6",
   "metadata": {},
   "outputs": [],
   "source": []
  },
  {
   "cell_type": "markdown",
   "id": "d5685114",
   "metadata": {},
   "source": [
    "d. Calculate the correlation coefficient and check the significance of it at 1% level\n",
    "of significance."
   ]
  },
  {
   "cell_type": "code",
   "execution_count": 23,
   "id": "b460f238",
   "metadata": {},
   "outputs": [],
   "source": [
    "from scipy.stats import t\n",
    "\n",
    "\n",
    "# Calculate the correlation coefficient\n",
    "correlation_coefficient = np.corrcoef(data_before, data_after)[0, 1]\n"
   ]
  },
  {
   "cell_type": "code",
   "execution_count": 24,
   "id": "d6bf36a5",
   "metadata": {},
   "outputs": [
    {
     "name": "stdout",
     "output_type": "stream",
     "text": [
      "Correlation Coefficient: 0.9779485966556016\n",
      "Degrees of Freedom: 98\n",
      "Critical Value: 2.626931094814024\n",
      "\n",
      "The correlation coefficient is not significant at a 1% level of significance.\n"
     ]
    }
   ],
   "source": [
    "\n",
    "# Calculate the degrees of freedom\n",
    "df = len(data_before) - 2\n",
    "\n",
    "# Determine the critical value for a 1% level of significance\n",
    "critical_value = t.ppf(0.995, df)\n",
    "\n",
    "print(\"Correlation Coefficient:\", correlation_coefficient)\n",
    "print(\"Degrees of Freedom:\", df)\n",
    "print(\"Critical Value:\", critical_value)\n",
    "print()\n",
    "\n",
    "# Check the significance of the correlation coefficient at a 1% level of significance\n",
    "if abs(correlation_coefficient) > critical_value:\n",
    "    print(\"The correlation coefficient is significant at a 1% level of significance.\")\n",
    "else:\n",
    "    print(\"The correlation coefficient is not significant at a 1% level of significance.\")\n"
   ]
  },
  {
   "cell_type": "code",
   "execution_count": null,
   "id": "215c8a3a",
   "metadata": {},
   "outputs": [],
   "source": []
  }
 ],
 "metadata": {
  "kernelspec": {
   "display_name": "Python 3 (ipykernel)",
   "language": "python",
   "name": "python3"
  },
  "language_info": {
   "codemirror_mode": {
    "name": "ipython",
    "version": 3
   },
   "file_extension": ".py",
   "mimetype": "text/x-python",
   "name": "python",
   "nbconvert_exporter": "python",
   "pygments_lexer": "ipython3",
   "version": "3.9.12"
  }
 },
 "nbformat": 4,
 "nbformat_minor": 5
}
